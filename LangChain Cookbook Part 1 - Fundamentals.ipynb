{
 "cells": [
  {
   "cell_type": "markdown",
   "id": "359697d5",
   "metadata": {},
   "source": [
    "# LangChain Cookbook 👨‍🍳👩‍🍳"
   ]
  },
  {
   "cell_type": "markdown",
   "id": "11d788b0",
   "metadata": {},
   "source": [
    "### How to get Embedding and LLM Tokens?\n",
    "Follow the instructions in Slack Thread: https://rubrikinc.slack.com/archives/C092RDBLN/p1746228804836079\n",
    "\n",
    "\n",
    "### **What is LangChain?**\n",
    "> LangChain is a framework for developing applications powered by language models.\n",
    "\n",
    "**TLDR**: LangChain makes the complicated parts of working & building with AI models easier. It helps do this in two ways:\n",
    "\n",
    "1. **Integration** - Bring external data, such as your files, other applications, and api data, to your LLMs\n",
    "2. **Agency** - Allow your LLMs to interact with it's environment via decision making. Use LLMs to help decide which action to take next\n",
    "\n",
    "### **Why LangChain?**\n",
    "1. **Components** - LangChain makes it easy to swap out abstractions and components necessary to work with language models.\n",
    "\n",
    "2. **Customized Chains** - LangChain provides out of the box support for using and customizing 'chains' - a series of actions strung together.\n",
    "\n",
    "3. **Speed 🚢** - This team ships insanely fast. You'll be up to date with the latest LLM features.\n",
    "\n",
    "4. **Community 👥** - Wonderful discord and community support, meet ups, hackathons, etc.\n",
    "\n",
    "Though LLMs can be straightforward (text-in, text-out) you'll quickly run into friction points that LangChain helps with once you develop more complicated applications.\n",
    "\n",
    "<img src=\"./images/langchain_stack.svg\" alt=\"langchain_stack\" width=\"700\"/>\n",
    "\n"
   ]
  },
  {
   "cell_type": "markdown",
   "id": "dd26e1d2-9f7c-47a0-a9c2-e8277643afe8",
   "metadata": {},
   "source": [
    "### Supported Models\n",
    "https://python.langchain.com/docs/integrations/llms/"
   ]
  },
  {
   "cell_type": "code",
   "execution_count": 55,
   "id": "e9815081",
   "metadata": {
    "hide_input": false
   },
   "outputs": [],
   "source": [
    "from langchain_openai import AzureChatOpenAI, AzureOpenAIEmbeddings\n",
    "from dotenv import load_dotenv\n",
    "import os\n",
    "\n",
    "load_dotenv()\n",
    "\n",
    "azure_openai_endpoint=os.getenv(\"AZURE_OPENAI_ENDPOINT\", None)\n",
    "azure_openai_key=os.getenv(\"AZURE_OPENAI_API_KEY\", None)\n",
    "azure_api_version=os.getenv(\"AZURE_API_VERSION\", None)\n",
    "azure_deployment=os.getenv(\"AZURE_DEPLOYMENT\", None)\n",
    "azure_embedding_model=os.getenv(\"AZURE_EMBEDDING_MODEL\", None)\n",
    "\n",
    "def get_azure_chat_model() -> AzureChatOpenAI:\n",
    "    return AzureChatOpenAI(\n",
    "        openai_api_version=azure_api_version,\n",
    "        azure_endpoint=azure_openai_endpoint,\n",
    "        openai_api_key=azure_openai_key,\n",
    "        azure_deployment=azure_deployment,\n",
    "        temperature=0.7,\n",
    "    )\n",
    "\n",
    "def get_azure_embedding_model() -> AzureOpenAIEmbeddings:\n",
    "    return AzureOpenAIEmbeddings(\n",
    "        model=azure_embedding_model,\n",
    "        azure_endpoint=azure_openai_endpoint,\n",
    "        openai_api_key=azure_openai_key,\n",
    "        api_version=azure_api_version,\n",
    "    )"
   ]
  },
  {
   "cell_type": "markdown",
   "id": "05bb564d",
   "metadata": {},
   "source": [
    "# LangChain Components\n",
    "\n",
    "## Schema - Nuts and Bolts of working with Large Language Models (LLMs)\n",
    "\n",
    "### **Text**\n",
    "The natural language way to interact with LLMs"
   ]
  },
  {
   "cell_type": "code",
   "execution_count": 56,
   "id": "8e0dc06c",
   "metadata": {
    "hide_input": false
   },
   "outputs": [
    {
     "data": {
      "text/plain": [
       "'What day comes after Friday?'"
      ]
     },
     "execution_count": 56,
     "metadata": {},
     "output_type": "execute_result"
    }
   ],
   "source": [
    "# You'll be working with simple strings (that'll soon grow in complexity!)\n",
    "my_text = \"What day comes after Friday?\"\n",
    "my_text"
   ]
  },
  {
   "cell_type": "markdown",
   "id": "2f39eb39",
   "metadata": {},
   "source": [
    "### **Chat Messages**\n",
    "Like text, but specified with a message type (System, Human, AI)\n",
    "\n",
    "* **System** - Helpful background context that tell the AI what to do\n",
    "* **Human** - Messages that are intented to represent the user\n",
    "* **AI** - Messages that show what the AI responded with\n",
    "\n",
    "For more, see OpenAI's [documentation](https://platform.openai.com/docs/guides/chat/introduction)"
   ]
  },
  {
   "cell_type": "code",
   "execution_count": 57,
   "id": "99b0935b",
   "metadata": {},
   "outputs": [],
   "source": [
    "from langchain_openai import AzureChatOpenAI\n",
    "from langchain.schema import HumanMessage, SystemMessage, AIMessage\n",
    "\n",
    "chat = get_azure_chat_model()"
   ]
  },
  {
   "cell_type": "markdown",
   "id": "a2d2f7af",
   "metadata": {},
   "source": [
    "Now let's create a few messages that simulate a chat experience with a bot"
   ]
  },
  {
   "cell_type": "code",
   "execution_count": 58,
   "id": "878d6a36",
   "metadata": {},
   "outputs": [
    {
     "name": "stdout",
     "output_type": "stream",
     "text": [
      "Response: How about a fresh caprese salad with tomatoes, mozzarella, basil, and a drizzle of olive oil?\n"
     ]
    }
   ],
   "source": [
    "ai_message = chat.invoke(\n",
    "    [\n",
    "        SystemMessage(content=\"You are a nice AI bot that helps a user figure out what to eat in one short sentence\"),\n",
    "        HumanMessage(content=\"I like tomatoes, what should I eat?\")\n",
    "    ]\n",
    ")\n",
    "print(f\"Response: {ai_message.content}\")"
   ]
  },
  {
   "cell_type": "markdown",
   "id": "0a425aaa",
   "metadata": {},
   "source": [
    "You can also pass more chat history w/ responses from the AI"
   ]
  },
  {
   "cell_type": "code",
   "execution_count": 59,
   "id": "8fd3fe88",
   "metadata": {},
   "outputs": [
    {
     "name": "stdout",
     "output_type": "stream",
     "text": [
      "Response: Explore the Promenade des Anglais, visit the Old Town (Vieux Nice), and savor fresh seafood at beachside restaurants!\n"
     ]
    }
   ],
   "source": [
    "ai_message = chat.invoke(\n",
    "    [\n",
    "        SystemMessage(content=\"You are a nice AI bot that helps a user figure out where to travel in one short sentence\"),\n",
    "        HumanMessage(content=\"I like the beaches where should I go?\"),\n",
    "        AIMessage(content=\"You should go to Nice, France\"),\n",
    "        HumanMessage(content=\"What else should I do when I'm there?\")\n",
    "    ]\n",
    ")\n",
    "print(f\"Response: {ai_message.content}\")"
   ]
  },
  {
   "cell_type": "markdown",
   "id": "ff5ee37a",
   "metadata": {},
   "source": [
    "You can also exclude the system message if you want"
   ]
  },
  {
   "cell_type": "code",
   "execution_count": 60,
   "id": "238a49f6",
   "metadata": {},
   "outputs": [
    {
     "name": "stdout",
     "output_type": "stream",
     "text": [
      "Response: The day that comes after Thursday is **Friday**.\n"
     ]
    }
   ],
   "source": [
    "ai_message = chat.invoke(\n",
    "    [\n",
    "        HumanMessage(content=\"What day comes after Thursday?\")\n",
    "    ]\n",
    ")\n",
    "print(f\"Response: {ai_message.content}\")"
   ]
  },
  {
   "cell_type": "markdown",
   "id": "66bf9634",
   "metadata": {},
   "source": [
    "### **Documents**\n",
    "An object that holds a piece of text and metadata (more information about that text)"
   ]
  },
  {
   "cell_type": "code",
   "execution_count": 61,
   "id": "3bbf58b2",
   "metadata": {},
   "outputs": [],
   "source": [
    "from langchain.schema import Document"
   ]
  },
  {
   "cell_type": "code",
   "execution_count": 62,
   "id": "6ad9bef6",
   "metadata": {},
   "outputs": [
    {
     "data": {
      "text/plain": [
       "Document(metadata={'my_document_id': 234234, 'my_document_source': 'The LangChain Papers', 'my_document_create_time': 1680013019}, page_content=\"This is my document. It is full of text that I've gathered from other places\")"
      ]
     },
     "execution_count": 62,
     "metadata": {},
     "output_type": "execute_result"
    }
   ],
   "source": [
    "Document(\n",
    "    page_content=\"This is my document. It is full of text that I've gathered from other places\",\n",
    "    metadata={\n",
    "        'my_document_id' : 234234,\n",
    "        'my_document_source' : \"The LangChain Papers\",\n",
    "        'my_document_create_time' : 1680013019\n",
    "    }\n",
    ")"
   ]
  },
  {
   "cell_type": "markdown",
   "id": "3bd19754",
   "metadata": {},
   "source": [
    "But you don't have to include metadata if you don't want to"
   ]
  },
  {
   "cell_type": "code",
   "execution_count": 63,
   "id": "0798d3ca",
   "metadata": {},
   "outputs": [
    {
     "data": {
      "text/plain": [
       "Document(metadata={}, page_content=\"This is my document. It is full of text that I've gathered from other places\")"
      ]
     },
     "execution_count": 63,
     "metadata": {},
     "output_type": "execute_result"
    }
   ],
   "source": [
    "Document(page_content=\"This is my document. It is full of text that I've gathered from other places\")"
   ]
  },
  {
   "cell_type": "markdown",
   "id": "2e462b5d",
   "metadata": {},
   "source": [
    "## Models - The interface to the AI brains"
   ]
  },
  {
   "cell_type": "markdown",
   "id": "b27fe982",
   "metadata": {},
   "source": [
    "###  **Language Model**\n",
    "A model that does text in ➡️ text out!"
   ]
  },
  {
   "cell_type": "markdown",
   "id": "3ef89bfa",
   "metadata": {},
   "source": [
    "### **Chat Model**\n",
    "A model that takes a series of messages and returns a message output"
   ]
  },
  {
   "cell_type": "code",
   "execution_count": 64,
   "id": "bf091777",
   "metadata": {},
   "outputs": [],
   "source": [
    "from langchain_openai import AzureChatOpenAI\n",
    "from langchain.schema import HumanMessage, SystemMessage, AIMessage\n",
    "\n",
    "chat = get_azure_chat_model()"
   ]
  },
  {
   "cell_type": "code",
   "execution_count": 65,
   "id": "f4260711",
   "metadata": {},
   "outputs": [
    {
     "name": "stdout",
     "output_type": "stream",
     "text": [
      "Response: Why not just flap your arms really hard and hope for the best? If birds can do it, why can't you?\n"
     ]
    }
   ],
   "source": [
    "ai_message = chat.invoke(\n",
    "    [\n",
    "        SystemMessage(content=\"You are an unhelpful AI bot that makes a joke at whatever the user says\"),\n",
    "        HumanMessage(content=\"I would like to go to New York, how should I do this?\")\n",
    "    ]\n",
    ")\n",
    "print(f\"Response: {ai_message.content}\")"
   ]
  },
  {
   "cell_type": "markdown",
   "id": "05c028f9",
   "metadata": {},
   "source": [
    "### Function Calling Models\n",
    "\n",
    "[Function calling models](https://openai.com/blog/function-calling-and-other-api-updates) are similar to Chat Models but with a little extra flavor. They are fine tuned to give structured data outputs.\n",
    "\n",
    "This comes in handy when you're making an API call to an external service or doing extraction."
   ]
  },
  {
   "cell_type": "code",
   "execution_count": 66,
   "id": "1020ff45",
   "metadata": {},
   "outputs": [
    {
     "name": "stdout",
     "output_type": "stream",
     "text": [
      "{'function_call': {'arguments': '{\"location\":\"Boston, MA\"}', 'name': 'get_current_weather'}, 'refusal': None}\n"
     ]
    }
   ],
   "source": [
    "# Fix this\n",
    "\n",
    "chat = get_azure_chat_model()\n",
    "\n",
    "output = chat(messages=\n",
    "     [\n",
    "         SystemMessage(content=\"You are an helpful AI bot\"),\n",
    "         HumanMessage(content=\"What’s the weather like in Boston right now?\")\n",
    "     ],\n",
    "     functions=[\n",
    "         {\n",
    "             \"name\": \"get_current_weather\",\n",
    "             \"description\": \"Get the current weather in a given location\",\n",
    "             \"parameters\": {\n",
    "                 \"type\": \"object\",\n",
    "                 \"properties\": {\n",
    "                     \"location\": {\n",
    "                         \"type\": \"string\",\n",
    "                         \"description\": \"The city and state, e.g. San Francisco, CA\"\n",
    "                     },\n",
    "                     \"unit\": {\n",
    "                         \"type\": \"string\",\n",
    "                         \"enum\": [\"celsius\", \"fahrenheit\"]\n",
    "                     }\n",
    "                 },\n",
    "                 \"required\": [\"location\"]\n",
    "             }\n",
    "         }\n",
    "     ]\n",
    ")\n",
    "print(output.additional_kwargs)"
   ]
  },
  {
   "cell_type": "markdown",
   "id": "0f399a1d",
   "metadata": {},
   "source": [
    "See the extra `additional_kwargs` that is passed back to us? We can take that and pass it to an external API to get data. It saves the hassle of doing output parsing."
   ]
  },
  {
   "cell_type": "markdown",
   "id": "c2b70f23",
   "metadata": {},
   "source": [
    "### **Text Embedding Model**\n",
    "Embedding is a means of representing objects like text, images and audio as points in a continuous vector space where the locations of those points in space are semantically meaningful to machine learning (ML) algorithms.\n",
    "\n",
    "#### Why use Embeddings?\n",
    "<img src=\"./images/why_use_embedding.png\" alt=\"why_use_embedding\" width=\"500\"/>\n",
    "\n",
    "#### Mathematics behind Embeddings\n",
    "<img src=\"./images/vector.jpg\" alt=\"vector\" width=\"700\"/>\n",
    "<img src=\"./images/vectors.jpg\" alt=\"vector\" width=\"700\"/>\n",
    "<img src=\"./images/embeddings.jpg\" alt=\"embeddings\" width=\"700\"/>\n",
    "\n",
    "\n",
    "*BTW: Semantic means 'relating to meaning in language or logic.'*"
   ]
  },
  {
   "cell_type": "code",
   "execution_count": 13,
   "id": "1655de82",
   "metadata": {},
   "outputs": [],
   "source": [
    "from langchain_openai import AzureOpenAIEmbeddings\n",
    "\n",
    "embeddings = get_azure_embedding_model()"
   ]
  },
  {
   "cell_type": "code",
   "execution_count": 67,
   "id": "a2c85e7e",
   "metadata": {},
   "outputs": [],
   "source": [
    "text = \"Hi! It's time for the beach\""
   ]
  },
  {
   "cell_type": "code",
   "execution_count": 69,
   "id": "ddc5a368",
   "metadata": {
    "scrolled": true
   },
   "outputs": [
    {
     "name": "stdout",
     "output_type": "stream",
     "text": [
      "Here's a sample: [-0.02253468707203865, -0.016473732888698578, -0.003123833332210779, -0.04386293143033981, 0.014032116159796715]...\n",
      "Your embedding is length 3072\n"
     ]
    }
   ],
   "source": [
    "text_embedding = embeddings.embed_query(text)\n",
    "print (f\"Here's a sample: {text_embedding[:5]}...\")\n",
    "print (f\"Your embedding is length {len(text_embedding)}\")"
   ]
  },
  {
   "cell_type": "markdown",
   "id": "a295cb60-b519-4dc1-a067-2979756a177f",
   "metadata": {},
   "source": [
    "# Runnable interface\n",
    "\n",
    "The Runnable interface is the foundation for working with LangChain components, and it's implemented across many of them, such as [language models](/docs/concepts/chat_models), [output parsers](/docs/concepts/output_parsers), [retrievers](/docs/concepts/retrievers), [compiled LangGraph graphs](\n",
    "https://langchain-ai.github.io/langgraph/concepts/low_level/#compiling-your-graph) and more.\n",
    "\n",
    "Related Resources\n",
    "* The [\"Runnable\" Interface API Reference](https://python.langchain.com/api_reference/core/runnables/langchain_core.runnables.base.Runnable.html#langchain_core.runnables.base.Runnable) provides a detailed overview of the Runnable interface and its methods.\n",
    "* A list of built-in `Runnables` can be found in the [LangChain Core API Reference](https://python.langchain.com/api_reference/core/runnables.html). Many of these Runnables are useful when composing custom \"chains\" in LangChain using the [LangChain Expression Language (LCEL)](/docs/concepts/lcel).\n",
    ":::\n",
    "\n",
    "## Overview of runnable interface\n",
    "\n",
    "The Runnable way defines a standard interface that allows a Runnable component to be:\n",
    "\n",
    "* [Invoked](/docs/how_to/lcel_cheatsheet/#invoke-a-runnable): A single input is transformed into an output.\n",
    "* [Batched](/docs/how_to/lcel_cheatsheet/#batch-a-runnable): Multiple inputs are efficiently transformed into outputs.\n",
    "* [Streamed](/docs/how_to/lcel_cheatsheet/#stream-a-runnable): Outputs are streamed as they are produced.\n",
    "* Inspected: Schematic information about Runnable's input, output, and configuration can be accessed.\n",
    "* Composed: Multiple Runnables can be composed to work together using [the LangChain Expression Language (LCEL)](/docs/concepts/lcel) to create complex pipelines."
   ]
  },
  {
   "cell_type": "markdown",
   "id": "c38fe99f",
   "metadata": {},
   "source": [
    "## Prompts - Text generally used as instructions to your model"
   ]
  },
  {
   "cell_type": "markdown",
   "id": "138828b1-d35a-42e3-8482-b23275ed1e34",
   "metadata": {},
   "source": [
    "\n",
    "<img src=\"./images/anatomy_of_a_prompt.png\" alt=\"anatomy_of_a_prompt\" width=\"500\"/>"
   ]
  },
  {
   "cell_type": "markdown",
   "id": "74988254",
   "metadata": {},
   "source": [
    "### **Prompt Template**\n",
    "An object that helps create prompts based on a combination of user input, other non-static information and a fixed template string.\n",
    "\n",
    "Think of it as an [f-string](https://realpython.com/python-f-strings/) in python but for prompts"
   ]
  },
  {
   "cell_type": "code",
   "execution_count": 70,
   "id": "abcc212d",
   "metadata": {},
   "outputs": [
    {
     "name": "stdout",
     "output_type": "stream",
     "text": [
      "Explore ancient landmarks like the Colosseum, Vatican City, and Trevi Fountain while indulging in authentic Italian cuisine.\n"
     ]
    }
   ],
   "source": [
    "from langchain_openai import AzureChatOpenAI\n",
    "from langchain_core.output_parsers import StrOutputParser\n",
    "from langchain import PromptTemplate\n",
    "\n",
    "llm = get_azure_chat_model()\n",
    "\n",
    "\n",
    "# Notice \"location\" below, that is a placeholder for another value later\n",
    "template = \"\"\"\n",
    "I really want to travel to {location}. What should I do there?\n",
    "\n",
    "Respond in one short sentence\n",
    "\"\"\"\n",
    "\n",
    "template = PromptTemplate(\n",
    "    input_variables=[\"location\"],\n",
    "    template=template,\n",
    ")\n",
    "\n",
    "chain = template | llm | StrOutputParser()\n",
    "print(chain.invoke(input={\"location\": \"Rome\"}))"
   ]
  },
  {
   "cell_type": "markdown",
   "id": "ed40bac2",
   "metadata": {},
   "source": [
    "### **Example Selectors**\n",
    "An easy way to select from a series of examples that allow you to dynamic place in-context information into your prompt. Often used when your task is nuanced or you have a large list of examples.\n",
    "\n",
    "Check out different types of example selectors [here](https://python.langchain.com/docs/how_to/example_selectors/)"
   ]
  },
  {
   "cell_type": "code",
   "execution_count": 71,
   "id": "aaf36cd9",
   "metadata": {},
   "outputs": [
    {
     "data": {
      "text/plain": [
       "'soil'"
      ]
     },
     "execution_count": 71,
     "metadata": {},
     "output_type": "execute_result"
    }
   ],
   "source": [
    "from langchain.prompts.example_selector import SemanticSimilarityExampleSelector\n",
    "from langchain.vectorstores import Chroma\n",
    "from langchain.embeddings import OpenAIEmbeddings\n",
    "from langchain.prompts import FewShotPromptTemplate, PromptTemplate\n",
    "from langchain.llms import OpenAI\n",
    "\n",
    "llm = get_azure_chat_model()\n",
    "embeddings = get_azure_embedding_model()\n",
    "\n",
    "\n",
    "example_prompt = PromptTemplate(\n",
    "    input_variables=[\"input\", \"output\"],\n",
    "    template=\"Example Input: {input}\\nExample Output: {output}\",\n",
    ")\n",
    "\n",
    "# Examples of locations that nouns are found\n",
    "examples = [\n",
    "    {\"input\": \"pirate\", \"output\": \"ship\"},\n",
    "    {\"input\": \"pilot\", \"output\": \"plane\"},\n",
    "    {\"input\": \"driver\", \"output\": \"car\"},\n",
    "    {\"input\": \"tree\", \"output\": \"ground\"},\n",
    "    {\"input\": \"bird\", \"output\": \"nest\"},\n",
    "]\n",
    "\n",
    "# SemanticSimilarityExampleSelector will select examples that are similar to your input by semantic meaning\n",
    "\n",
    "example_selector = SemanticSimilarityExampleSelector.from_examples(\n",
    "    # This is the list of examples available to select from.\n",
    "    examples, \n",
    "    \n",
    "    # This is the embedding class used to produce embeddings which are used to measure semantic similarity.\n",
    "    embeddings, \n",
    "    \n",
    "    # This is the VectorStore class that is used to store the embeddings and do a similarity search over.\n",
    "    Chroma, \n",
    "    \n",
    "    # This is the number of examples to produce.\n",
    "    k=2\n",
    ")\n",
    "\n",
    "similar_prompt_template = FewShotPromptTemplate(\n",
    "    # The object that will help select examples\n",
    "    example_selector=example_selector,\n",
    "    \n",
    "    # Your prompt\n",
    "    example_prompt=example_prompt,\n",
    "    \n",
    "    # Customizations that will be added to the top and bottom of your prompt\n",
    "    prefix=\"Give the location an item is usually found in\",\n",
    "    suffix=\"Input: {noun}\\nOutput:\",\n",
    "    \n",
    "    # What inputs your prompt will receive\n",
    "    input_variables=[\"noun\"],\n",
    ")\n",
    "\n",
    "chain = similar_prompt_template | llm | StrOutputParser()\n",
    "chain.invoke(input={\"noun\": \"plant\"})"
   ]
  },
  {
   "cell_type": "markdown",
   "id": "8474c91d",
   "metadata": {},
   "source": [
    "### **Output Parsers Method 1: Prompt Instructions & String Parsing**\n",
    "A helpful way to format the output of a model. Usually used for structured output. LangChain has a bunch more output parsers listed on their [documentation](https://python.langchain.com/docs/modules/model_io/output_parsers).\n",
    "\n",
    "Two big concepts:\n",
    "\n",
    "**1. Format Instructions** - A autogenerated prompt that tells the LLM how to format it's response based off your desired result\n",
    "\n",
    "**2. Parser** - A method which will extract your model's text output into a desired structure (usually json)"
   ]
  },
  {
   "cell_type": "code",
   "execution_count": 18,
   "id": "58353756",
   "metadata": {},
   "outputs": [],
   "source": [
    "from langchain.output_parsers import StructuredOutputParser, ResponseSchema\n",
    "from langchain.prompts import ChatPromptTemplate, HumanMessagePromptTemplate\n",
    "from langchain.llms import OpenAI"
   ]
  },
  {
   "cell_type": "code",
   "execution_count": 19,
   "id": "ee36f881",
   "metadata": {},
   "outputs": [],
   "source": [
    "llm = get_azure_chat_model()"
   ]
  },
  {
   "cell_type": "code",
   "execution_count": 20,
   "id": "fa59be3f",
   "metadata": {},
   "outputs": [],
   "source": [
    "# How you would like your response structured. This is basically a fancy prompt template\n",
    "response_schemas = [\n",
    "    ResponseSchema(name=\"bad_string\", description=\"This a poorly formatted user input string\"),\n",
    "    ResponseSchema(name=\"good_string\", description=\"This is your response, a reformatted response\")\n",
    "]\n",
    "\n",
    "# How you would like to parse your output\n",
    "output_parser = StructuredOutputParser.from_response_schemas(response_schemas)"
   ]
  },
  {
   "cell_type": "code",
   "execution_count": 21,
   "id": "d1079f0a",
   "metadata": {},
   "outputs": [
    {
     "name": "stdout",
     "output_type": "stream",
     "text": [
      "The output should be a markdown code snippet formatted in the following schema, including the leading and trailing \"```json\" and \"```\":\n",
      "\n",
      "```json\n",
      "{\n",
      "\t\"bad_string\": string  // This a poorly formatted user input string\n",
      "\t\"good_string\": string  // This is your response, a reformatted response\n",
      "}\n",
      "```\n"
     ]
    }
   ],
   "source": [
    "# See the prompt template you created for formatting\n",
    "format_instructions = output_parser.get_format_instructions()\n",
    "print (format_instructions)"
   ]
  },
  {
   "cell_type": "code",
   "execution_count": 22,
   "id": "9aaae5be",
   "metadata": {},
   "outputs": [
    {
     "data": {
      "text/plain": [
       "{'bad_string': 'welcom to califonya!', 'good_string': 'Welcome to California!'}"
      ]
     },
     "execution_count": 22,
     "metadata": {},
     "output_type": "execute_result"
    }
   ],
   "source": [
    "template = \"\"\"\n",
    "You will be given a poorly formatted string from a user.\n",
    "Reformat it and make sure all the words are spelled correctly\n",
    "\n",
    "{format_instructions}\n",
    "\n",
    "% USER INPUT:\n",
    "{user_input}\n",
    "\n",
    "YOUR RESPONSE:\n",
    "\"\"\"\n",
    "\n",
    "prompt_template = PromptTemplate(\n",
    "    input_variables=[\"user_input\"],\n",
    "    partial_variables={\"format_instructions\": format_instructions},\n",
    "    template=template\n",
    ")\n",
    "\n",
    "chain = prompt_template | llm | output_parser\n",
    "chain.invoke(input={\"user_input\": \"welcom to califonya!\"})"
   ]
  },
  {
   "cell_type": "markdown",
   "id": "07045ae3",
   "metadata": {},
   "source": [
    "### **Output Parsers Method 2: OpenAI Fuctions**\n",
    "When OpenAI released function calling, the game changed. This is recommended method when starting out.\n",
    "\n",
    "They trained models specifically for outputing structured data. It became super easy to specify a Pydantic schema and get a structured output.\n",
    "\n",
    "There are many ways to define your schema, I prefer using Pydantic Models because of how organized they are. Feel free to reference OpenAI's [documention](https://platform.openai.com/docs/guides/gpt/function-calling) for other methods.\n",
    "\n",
    "**Example 1: Simple**\n",
    "\n",
    "Let's get started by defining a simple model for us to extract from."
   ]
  },
  {
   "cell_type": "code",
   "execution_count": 23,
   "id": "3593699b",
   "metadata": {},
   "outputs": [],
   "source": [
    "from pydantic import BaseModel, Field\n",
    "from typing import Optional, Sequence\n",
    "\n",
    "class Person(BaseModel):\n",
    "    \"\"\"Identifying information about a person.\"\"\"\n",
    "\n",
    "    name: str = Field(..., description=\"The person's name\")\n",
    "    age: int = Field(..., description=\"The person's age\")\n",
    "    fav_food: Optional[str] = Field(None, description=\"The person's favorite food\")\n",
    "\n",
    "\n",
    "class People(BaseModel):\n",
    "    \"\"\"Identifying information about all people in a text.\"\"\"\n",
    "\n",
    "    people: Sequence[Person] = Field(..., description=\"The people in the text\")\n"
   ]
  },
  {
   "cell_type": "markdown",
   "id": "17033d15",
   "metadata": {},
   "source": [
    "Then let's create a chain (more on this later) that will do the extracting for us"
   ]
  },
  {
   "cell_type": "code",
   "execution_count": 73,
   "id": "60b7be09",
   "metadata": {},
   "outputs": [
    {
     "data": {
      "text/plain": [
       "People(people=[Person(name='Sally', age=43, fav_food=None), Person(name='Joey', age=32, fav_food='spinach'), Person(name='Caroline', age=53, fav_food=None)])"
      ]
     },
     "execution_count": 73,
     "metadata": {},
     "output_type": "execute_result"
    }
   ],
   "source": [
    "from langchain.chains.openai_functions import create_structured_output_chain\n",
    "\n",
    "llm = get_azure_chat_model()\n",
    "\n",
    "prompt_template = PromptTemplate(\n",
    "    input_variables=[\"user_input\"],\n",
    "    template=\"{user_input}\"\n",
    ")\n",
    "\n",
    "chain = prompt_template | llm.with_structured_output(People)\n",
    "chain.invoke(\n",
    "    input={\n",
    "        \"user_input\": \"Sally is 43, Joey just turned 32 and loves spinach. Caroline is 10 years older than Sally.\"\n",
    "    }\n",
    ")"
   ]
  },
  {
   "cell_type": "markdown",
   "id": "12db9b8b",
   "metadata": {},
   "source": [
    "Let's do some more parsing with it\n",
    "\n",
    "**Example 2: Enum**\n",
    "\n",
    "Now let's parse when a product from a list is mentioned"
   ]
  },
  {
   "cell_type": "code",
   "execution_count": 25,
   "id": "6616a735",
   "metadata": {},
   "outputs": [],
   "source": [
    "import enum\n",
    "\n",
    "llm = get_azure_chat_model()\n",
    "\n",
    "class Product(str, enum.Enum):\n",
    "    CRM = \"CRM\"\n",
    "    VIDEO_EDITING = \"VIDEO_EDITING\"\n",
    "    HARDWARE = \"HARDWARE\"\n",
    "\n",
    "\n",
    "class Products(BaseModel):\n",
    "    \"\"\"Identifying products that were mentioned in a text\"\"\"\n",
    "\n",
    "    products: Sequence[Product] = Field(..., description=\"The products mentioned in a text\")\n"
   ]
  },
  {
   "cell_type": "code",
   "execution_count": 26,
   "id": "dd7e0bbf",
   "metadata": {},
   "outputs": [
    {
     "data": {
      "text/plain": [
       "Products(products=[<Product.CRM: 'CRM'>, <Product.VIDEO_EDITING: 'VIDEO_EDITING'>, <Product.HARDWARE: 'HARDWARE'>])"
      ]
     },
     "execution_count": 26,
     "metadata": {},
     "output_type": "execute_result"
    }
   ],
   "source": [
    "chain = prompt_template | llm.with_structured_output(Products)\n",
    "chain.invoke(\n",
    "    input={\n",
    "        \"user_input\": \"The CRM in this demo is great. Love the hardware. The microphone is also cool. Love the video editing\"\n",
    "    }\n",
    ")"
   ]
  },
  {
   "cell_type": "markdown",
   "id": "7b43cec2",
   "metadata": {},
   "source": [
    "## Indexes - Structuring documents to LLMs can work with them"
   ]
  },
  {
   "cell_type": "markdown",
   "id": "d3f904e9",
   "metadata": {},
   "source": [
    "### **Document Loaders**\n",
    "Easy ways to import data from other sources. Shared functionality with [OpenAI Plugins](https://openai.com/blog/chatgpt-plugins) [specifically retrieval plugins](https://github.com/openai/chatgpt-retrieval-plugin)\n",
    "\n",
    "See a [big list](https://python.langchain.com/en/latest/modules/indexes/document_loaders.html) of document loaders here. A bunch more on [Llama Index](https://llamahub.ai/) as well."
   ]
  },
  {
   "cell_type": "markdown",
   "id": "7d4719d4",
   "metadata": {},
   "source": [
    "**HackerNews**"
   ]
  },
  {
   "cell_type": "code",
   "execution_count": 74,
   "id": "ba88e05b",
   "metadata": {},
   "outputs": [],
   "source": [
    "from langchain.document_loaders import HNLoader"
   ]
  },
  {
   "cell_type": "code",
   "execution_count": 75,
   "id": "ee693520",
   "metadata": {},
   "outputs": [],
   "source": [
    "loader = HNLoader(\"https://news.ycombinator.com/item?id=34422627\")"
   ]
  },
  {
   "cell_type": "code",
   "execution_count": 76,
   "id": "88d89ad7",
   "metadata": {},
   "outputs": [],
   "source": [
    "data = loader.load()"
   ]
  },
  {
   "cell_type": "code",
   "execution_count": 77,
   "id": "e814f930",
   "metadata": {},
   "outputs": [
    {
     "name": "stdout",
     "output_type": "stream",
     "text": [
      "Found 76 comments\n",
      "Here's a sample:\n",
      "\n",
      "Ozzie_osman on Jan 18, 2023  \n",
      "             | next [–] \n",
      "\n",
      "LangChain is awesome. For people not sure what it's doing, large language models (LLMs) are veOzzie_osman on Jan 18, 2023  \n",
      "             | parent | next [–] \n",
      "\n",
      "Also, another library to check out is GPT Index (https://github.com/jerryjliu/gpt_ind\n"
     ]
    }
   ],
   "source": [
    "print (f\"Found {len(data)} comments\")\n",
    "print (f\"Here's a sample:\\n\\n{''.join([x.page_content[:150] for x in data[:2]])}\")"
   ]
  },
  {
   "cell_type": "markdown",
   "id": "7f1386b0",
   "metadata": {},
   "source": [
    "**URLs and webpages**\n",
    "\n",
    "Let's try it out with [Paul Graham's website](http://www.paulgraham.com/)"
   ]
  },
  {
   "cell_type": "code",
   "execution_count": 78,
   "id": "46a54e7d",
   "metadata": {},
   "outputs": [
    {
     "data": {
      "text/plain": [
       "'New: What to Do | Wokeness | Founder Mode Want to start a startup? Get funded by Y Combinator . © mmxxv pg'"
      ]
     },
     "execution_count": 78,
     "metadata": {},
     "output_type": "execute_result"
    }
   ],
   "source": [
    "from langchain.document_loaders import UnstructuredURLLoader\n",
    "\n",
    "urls = [\n",
    "    \"http://www.paulgraham.com/\",\n",
    "]\n",
    "\n",
    "loader = UnstructuredURLLoader(urls=urls)\n",
    "\n",
    "data = loader.load()\n",
    "\n",
    "data[0].page_content"
   ]
  },
  {
   "cell_type": "markdown",
   "id": "0e9601db",
   "metadata": {},
   "source": [
    "### **Text Splitters**\n",
    "Often times your document is too long (like a book) for your LLM. You need to split it up into chunks. Text splitters help with this.\n",
    "\n",
    "There are many ways you could split your text into chunks, experiment with [different ones](https://python.langchain.com/en/latest/modules/indexes/text_splitters.html) to see which is best for you."
   ]
  },
  {
   "cell_type": "code",
   "execution_count": 79,
   "id": "95713e57",
   "metadata": {},
   "outputs": [],
   "source": [
    "from langchain.text_splitter import RecursiveCharacterTextSplitter"
   ]
  },
  {
   "cell_type": "code",
   "execution_count": 83,
   "id": "a54455f5",
   "metadata": {},
   "outputs": [
    {
     "name": "stdout",
     "output_type": "stream",
     "text": [
      "You have 1 document\n",
      "February 2021Before college the two main things I worked on, outside of school,\n",
      "were writing and programming. I didn't write essays. I wrote what\n",
      "beginning writers were supposed to write then, and probably still\n",
      "are: short stories. My stories were awful. They had hardly any plot,\n",
      "just characters with strong feelings, which I imagined made them\n",
      "deep.The first programs I tried writing were on the IBM 1401 that our\n",
      "school district used for what was then called \"data processing.\"\n",
      "This was in 9th grade, so I was 13 or 14. The school district's\n",
      "1401 happened to be in the basement of our junior high school, and\n",
      "my friend Rich Draves and I got permission to use it. It was like\n",
      "a mini Bond villain's lair down there, with all these alien-looking\n",
      "machines  CPU, disk drives, printer, card reader  sitting up\n",
      "on a raised floor under bright fluorescent lights.The language we used was an early version of Fortran. You had to\n",
      "type programs on punch cards, then stack them in the card reader\n",
      "and press a button to load the program into memory and run it. The\n",
      "result would ordinarily be to print something on the spectacularly\n",
      "loud printer.I was puzzled by the 1401. I couldn't figure out what to do with\n",
      "it. And in retrospect there's not much I could have done with it.\n",
      "The only form of input to programs was data stored on punched cards,\n",
      "and I didn't have any data stored on punched cards. The only other\n",
      "option was to do things that didn't rely on any input, like calculate\n",
      "approximations of pi, but I didn't know enough math to do anything\n",
      "interesting of that type. So I'm not surprised I can't remember any\n",
      "programs I wrote, because they can't have done much. My clearest\n",
      "memory is of the moment I learned it was possible for programs not\n",
      "to terminate, when one of mine didn't. On a machine without\n",
      "time-sharing, this was a social as well as a technical error, as\n",
      "the data center manager's expression made clear.With microcomputers, everything changed. Now you could have a\n",
      "computer sitting right in front of you, on a desk, that could respond\n",
      "to your keystrokes as it was running instead of just churning through\n",
      "a stack of punch cards and then stopping. \n",
      "[1]The first of my friends to get a microcomputer built it himself.\n",
      "It was sold as a kit by Heathkit. I remember vividly how impressed\n",
      "and envious I felt watching him sitting in front of it, typing\n",
      "programs right into the computer.Computers were expensive in those days and it took me years of\n",
      "nagging before I convinced my father to buy one, a TRS-80, in about\n",
      "1980. The gold standard then was the Apple II, but a TRS-80 was\n",
      "good enough. This was when I really started programming. I wrote\n",
      "simple games, a program to predict how high my model rockets would\n",
      "fly, and a word processor that my father used to write at least one\n",
      "book. There was only room in memory for about 2 pages of text, so\n",
      "he'd write 2 pages at a time and then print them out, but it was a\n",
      "lot better than a typewriter.Though I liked programming, I didn't plan to study it in college.\n",
      "In college I was going to study philosophy, which sounded much more\n",
      "powerful. It seemed, to my naive high school self, to be the study\n",
      "of the ultimate truths, compared to which the things studied in\n",
      "other fields would be mere domain knowledge. What I discovered when\n",
      "I got to college was that the other fields took up so much of the\n",
      "space of ideas that there wasn't much left for these supposed\n",
      "ultimate truths. All that seemed left for philosophy were edge cases\n",
      "that people in other fields felt could safely be ignored.I couldn't have put this into words when I was 18. All I knew at\n",
      "the time was that I kept taking philosophy courses and they kept\n",
      "being boring. So I decided to switch to AI.AI was in the air in the mid 1980s, but there were two things\n",
      "especially that made me want to work on it: a novel by Heinlein\n",
      "called The Moon is a Harsh Mistress, which featured an intelligent\n",
      "computer called Mike, and a PBS documentary that showed Terry\n",
      "Winograd using SHRDLU. I haven't tried rereading The Moon is a Harsh\n",
      "Mistress, so I don't know how well it has aged, but when I read it\n",
      "I was drawn entirely into its world. It seemed only a matter of\n",
      "time before we'd have Mike, and when I saw Winograd using SHRDLU,\n",
      "it seemed like that time would be a few years at most. All you had\n",
      "to do was teach SHRDLU more words.There weren't any classes in AI at Cornell then, not even graduate\n",
      "classes, so I started trying to teach myself. Which meant learning\n",
      "Lisp, since in those days Lisp was regarded as the language of AI.\n",
      "The commonly used programming languages then were pretty primitive,\n",
      "and programmers' ideas correspondingly so. The default language at\n",
      "Cornell was a Pascal-like language called PL/I, and the situation\n",
      "was similar elsewhere. Learning Lisp expanded my concept of a program\n",
      "so fast that it was years before I started to have a sense of where\n",
      "the new limits were. This was more like it; this was what I had\n",
      "expected college to do. It wasn't happening in a class, like it was\n",
      "supposed to, but that was ok. For the next couple years I was on a\n",
      "roll. I knew what I was going to do.For my undergraduate thesis, I reverse-engineered SHRDLU. My God\n",
      "did I love working on that program. It was a pleasing bit of code,\n",
      "but what made it even more exciting was my belief  hard to imagine\n",
      "now, but not unique in 1985  that it was already climbing the\n",
      "lower slopes of intelligence.I had gotten into a program at Cornell that didn't make you choose\n",
      "a major. You could take whatever classes you liked, and choose\n",
      "whatever you liked to put on your degree. I of course chose \"Artificial\n",
      "Intelligence.\" When I got the actual physical diploma, I was dismayed\n",
      "to find that the quotes had been included, which made them read as\n",
      "scare-quotes. At the time this bothered me, but now it seems amusingly\n",
      "accurate, for reasons I was about to discover.I applied to 3 grad schools: MIT and Yale, which were renowned for\n",
      "AI at the time, and Harvard, which I'd visited because Rich Draves\n",
      "went there, and was also home to Bill Woods, who'd invented the\n",
      "type of parser I used in my SHRDLU clone. Only Harvard accepted me,\n",
      "so that was where I went.I don't remember the moment it happened, or if there even was a\n",
      "specific moment, but during the first year of grad school I realized\n",
      "that AI, as practiced at the time, was a hoax. By which I mean the\n",
      "sort of AI in which a program that's told \"the dog is sitting on\n",
      "the chair\" translates this into some formal representation and adds\n",
      "it to the list of things it knows.What these programs really showed was that there's a subset of\n",
      "natural language that's a formal language. But a very proper subset.\n",
      "It was clear that there was an unbridgeable gap between what they\n",
      "could do and actually understanding natural language. It was not,\n",
      "in fact, simply a matter of teaching SHRDLU more words. That whole\n",
      "way of doing AI, with explicit data structures representing concepts,\n",
      "was not going to work. Its brokenness did, as so often happens,\n",
      "generate a lot of opportunities to write papers about various\n",
      "band-aids that could be applied to it, but it was never going to\n",
      "get us Mike.So I looked around to see what I could salvage from the wreckage\n",
      "of my plans, and there was Lisp. I knew from experience that Lisp\n",
      "was interesting for its own sake and not just for its association\n",
      "with AI, even though that was the main reason people cared about\n",
      "it at the time. So I decided to focus on Lisp. In fact, I decided\n",
      "to write a book about Lisp hacking. It's scary to think how little\n",
      "I knew about Lisp hacking when I started writing that book. But\n",
      "there's nothing like writing a book about something to help you\n",
      "learn it. The book, On Lisp, wasn't published till 1993, but I wrote\n",
      "much of it in grad school.Computer Science is an uneasy alliance between two halves, theory\n",
      "and systems. The theory people prove things, and the systems people\n",
      "build things. I wanted to build things. I had plenty of respect for\n",
      "theory  indeed, a sneaking suspicion that it was the more admirable\n",
      "of the two halves  but building things seemed so much more exciting.The problem with systems work, though, was that it didn't last.\n",
      "Any program you wrote today, no matter how good, would be obsolete\n",
      "in a couple decades at best. People might mention your software in\n",
      "footnotes, but no one would actually use it. And indeed, it would\n",
      "seem very feeble work. Only people with a sense of the history of\n",
      "the field would even realize that, in its time, it had been good.There were some surplus Xerox Dandelions floating around the computer\n",
      "lab at one point. Anyone who wanted one to play around with could\n",
      "have one. I was briefly tempted, but they were so slow by present\n",
      "standards; what was the point? No one else wanted one either, so\n",
      "off they went. That was what happened to systems work.I wanted not just to build things, but to build things that would\n",
      "last.In this dissatisfied state I went in 1988 to visit Rich Draves at\n",
      "CMU, where he was in grad school. One day I went to visit the\n",
      "Carnegie Institute, where I'd spent a lot of time as a kid. While\n",
      "looking at a painting there I realized something that might seem\n",
      "obvious, but was a big surprise to me. There, right on the wall,\n",
      "was something you could make that would last. Paintings didn't\n",
      "become obsolete. Some of the best ones were hundreds of years old.And moreover this was something you could make a living doing. Not\n",
      "as easily as you could by writing software, of course, but I thought\n",
      "if you were really industrious and lived really cheaply, it had to\n",
      "be possible to make enough to survive. And as an artist you could\n",
      "be truly independent. You wouldn't have a boss, or even need to get\n",
      "research funding.I had always liked looking at paintings. Could I make them? I had\n",
      "no idea. I'd never imagined it was even possible. I knew intellectually\n",
      "that people made art  that it didn't just appear spontaneously\n",
      " but it was as if the people who made it were a different species.\n",
      "They either lived long ago or were mysterious geniuses doing strange\n",
      "things in profiles in Life magazine. The idea of actually being\n",
      "able to make art, to put that verb before that noun, seemed almost\n",
      "miraculous.That fall I started taking art classes at Harvard. Grad students\n",
      "could take classes in any department, and my advisor, Tom Cheatham,\n",
      "was very easy going. If he even knew about the strange classes I\n",
      "was taking, he never said anything.So now I was in a PhD program in computer science, yet planning to\n",
      "be an artist, yet also genuinely in love with Lisp hacking and\n",
      "working away at On Lisp. In other words, like many a grad student,\n",
      "I was working energetically on multiple projects that were not my\n",
      "thesis.I didn't see a way out of this situation. I didn't want to drop out\n",
      "of grad school, but how else was I going to get out? I remember\n",
      "when my friend Robert Morris got kicked out of Cornell for writing\n",
      "the internet worm of 1988, I was envious that he'd found such a\n",
      "spectacular way to get out of grad school.Then one day in April 1990 a crack appeared in the wall. I ran into\n",
      "professor Cheatham and he asked if I was far enough along to graduate\n",
      "that June. I didn't have a word of my dissertation written, but in\n",
      "what must have been the quickest bit of thinking in my life, I\n",
      "decided to take a shot at writing one in the 5 weeks or so that\n",
      "remained before the deadline, reusing parts of On Lisp where I\n",
      "could, and I was able to respond, with no perceptible delay \"Yes,\n",
      "I think so. I'll give you something to read in a few days.\"I picked applications of continuations as the topic. In retrospect\n",
      "I should have written about macros and embedded languages. There's\n",
      "a whole world there that's barely been explored. But all I wanted\n",
      "was to get out of grad school, and my rapidly written dissertation\n",
      "sufficed, just barely.Meanwhile I was applying to art schools. I applied to two: RISD in\n",
      "the US, and the Accademia di Belli Arti in Florence, which, because\n",
      "it was the oldest art school, I imagined would be good. RISD accepted\n",
      "me, and I never heard back from the Accademia, so off to Providence\n",
      "I went.I'd applied for the BFA program at RISD, which meant in effect that\n",
      "I had to go to college again. This was not as strange as it sounds,\n",
      "because I was only 25, and art schools are full of people of different\n",
      "ages. RISD counted me as a transfer sophomore and said I had to do\n",
      "the foundation that summer. The foundation means the classes that\n",
      "everyone has to take in fundamental subjects like drawing, color,\n",
      "and design.Toward the end of the summer I got a big surprise: a letter from\n",
      "the Accademia, which had been delayed because they'd sent it to\n",
      "Cambridge England instead of Cambridge Massachusetts, inviting me\n",
      "to take the entrance exam in Florence that fall. This was now only\n",
      "weeks away. My nice landlady let me leave my stuff in her attic. I\n",
      "had some money saved from consulting work I'd done in grad school;\n",
      "there was probably enough to last a year if I lived cheaply. Now\n",
      "all I had to do was learn Italian.Only stranieri (foreigners) had to take this entrance exam. In\n",
      "retrospect it may well have been a way of excluding them, because\n",
      "there were so many stranieri attracted by the idea of studying\n",
      "art in Florence that the Italian students would otherwise have been\n",
      "outnumbered. I was in decent shape at painting and drawing from the\n",
      "RISD foundation that summer, but I still don't know how I managed\n",
      "to pass the written exam. I remember that I answered the essay\n",
      "question by writing about Cezanne, and that I cranked up the\n",
      "intellectual level as high as I could to make the most of my limited\n",
      "vocabulary. \n",
      "[2]I'm only up to age 25 and already there are such conspicuous patterns.\n",
      "Here I was, yet again about to attend some august institution in\n",
      "the hopes of learning about some prestigious subject, and yet again\n",
      "about to be disappointed. The students and faculty in the painting\n",
      "department at the Accademia were the nicest people you could imagine,\n",
      "but they had long since arrived at an arrangement whereby the\n",
      "students wouldn't require the faculty to teach anything, and in\n",
      "return the faculty wouldn't require the students to learn anything.\n",
      "And at the same time all involved would adhere outwardly to the\n",
      "conventions of a 19th century atelier. We actually had one of those\n",
      "little stoves, fed with kindling, that you see in 19th century\n",
      "studio paintings, and a nude model sitting as close to it as possible\n",
      "without getting burned. Except hardly anyone else painted her besides\n",
      "me. The rest of the students spent their time chatting or occasionally\n",
      "trying to imitate things they'd seen in American art magazines.Our model turned out to live just down the street from me. She made\n",
      "a living from a combination of modelling and making fakes for a\n",
      "local antique dealer. She'd copy an obscure old painting out of a\n",
      "book, and then he'd take the copy and maltreat it to make it look\n",
      "old. \n",
      "[3]While I was a student at the Accademia I started painting still\n",
      "lives in my bedroom at night. These paintings were tiny, because\n",
      "the room was, and because I painted them on leftover scraps of\n",
      "canvas, which was all I could afford at the time. Painting still\n",
      "lives is different from painting people, because the subject, as\n",
      "its name suggests, can't move. People can't sit for more than about\n",
      "15 minutes at a time, and when they do they don't sit very still.\n",
      "So the traditional m.o. for painting people is to know how to paint\n",
      "a generic person, which you then modify to match the specific person\n",
      "you're painting. Whereas a still life you can, if you want, copy\n",
      "pixel by pixel from what you're seeing. You don't want to stop\n",
      "there, of course, or you get merely photographic accuracy, and what\n",
      "makes a still life interesting is that it's been through a head.\n",
      "You want to emphasize the visual cues that tell you, for example,\n",
      "that the reason the color changes suddenly at a certain point is\n",
      "that it's the edge of an object. By subtly emphasizing such things\n",
      "you can make paintings that are more realistic than photographs not\n",
      "just in some metaphorical sense, but in the strict information-theoretic\n",
      "sense. \n",
      "[4]I liked painting still lives because I was curious about what I was\n",
      "seeing. In everyday life, we aren't consciously aware of much we're\n",
      "seeing. Most visual perception is handled by low-level processes\n",
      "that merely tell your brain \"that's a water droplet\" without telling\n",
      "you details like where the lightest and darkest points are, or\n",
      "\"that's a bush\" without telling you the shape and position of every\n",
      "leaf. This is a feature of brains, not a bug. In everyday life it\n",
      "would be distracting to notice every leaf on every bush. But when\n",
      "you have to paint something, you have to look more closely, and\n",
      "when you do there's a lot to see. You can still be noticing new\n",
      "things after days of trying to paint something people usually take\n",
      "for granted, just as you can  after\n",
      "days of trying to write an essay about something people usually\n",
      "take for granted.This is not the only way to paint. I'm not 100% sure it's even a\n",
      "good way to paint. But it seemed a good enough bet to be worth\n",
      "trying.Our teacher, professor Ulivi, was a nice guy. He could see I worked\n",
      "hard, and gave me a good grade, which he wrote down in a sort of\n",
      "passport each student had. But the Accademia wasn't teaching me\n",
      "anything except Italian, and my money was running out, so at the\n",
      "end of the first year I went back to the US.I wanted to go back to RISD, but I was now broke and RISD was very\n",
      "expensive, so I decided to get a job for a year and then return to\n",
      "RISD the next fall. I got one at a company called Interleaf, which\n",
      "made software for creating documents. You mean like Microsoft Word?\n",
      "Exactly. That was how I learned that low end software tends to eat\n",
      "high end software. But Interleaf still had a few years to live yet.\n",
      "[5]Interleaf had done something pretty bold. Inspired by Emacs, they'd\n",
      "added a scripting language, and even made the scripting language a\n",
      "dialect of Lisp. Now they wanted a Lisp hacker to write things in\n",
      "it. This was the closest thing I've had to a normal job, and I\n",
      "hereby apologize to my boss and coworkers, because I was a bad\n",
      "employee. Their Lisp was the thinnest icing on a giant C cake, and\n",
      "since I didn't know C and didn't want to learn it, I never understood\n",
      "most of the software. Plus I was terribly irresponsible. This was\n",
      "back when a programming job meant showing up every day during certain\n",
      "working hours. That seemed unnatural to me, and on this point the\n",
      "rest of the world is coming around to my way of thinking, but at\n",
      "the time it caused a lot of friction. Toward the end of the year I\n",
      "spent much of my time surreptitiously working on On Lisp, which I\n",
      "had by this time gotten a contract to publish.The good part was that I got paid huge amounts of money, especially\n",
      "by art student standards. In Florence, after paying my part of the\n",
      "rent, my budget for everything else had been $7 a day. Now I was\n",
      "getting paid more than 4 times that every hour, even when I was\n",
      "just sitting in a meeting. By living cheaply I not only managed to\n",
      "save enough to go back to RISD, but also paid off my college loans.I learned some useful things at Interleaf, though they were mostly\n",
      "about what not to do. I learned that it's better for technology\n",
      "companies to be run by product people than sales people (though\n",
      "sales is a real skill and people who are good at it are really good\n",
      "at it), that it leads to bugs when code is edited by too many people,\n",
      "that cheap office space is no bargain if it's depressing, that\n",
      "planned meetings are inferior to corridor conversations, that big,\n",
      "bureaucratic customers are a dangerous source of money, and that\n",
      "there's not much overlap between conventional office hours and the\n",
      "optimal time for hacking, or conventional offices and the optimal\n",
      "place for it.But the most important thing I learned, and which I used in both\n",
      "Viaweb and Y Combinator, is that the low end eats the high end:\n",
      "that it's good to be the \"entry level\" option, even though that\n",
      "will be less prestigious, because if you're not, someone else will\n",
      "be, and will squash you against the ceiling. Which in turn means\n",
      "that prestige is a danger sign.When I left to go back to RISD the next fall, I arranged to do\n",
      "freelance work for the group that did projects for customers, and\n",
      "this was how I survived for the next several years. When I came\n",
      "back to visit for a project later on, someone told me about a new\n",
      "thing called HTML, which was, as he described it, a derivative of\n",
      "SGML. Markup language enthusiasts were an occupational hazard at\n",
      "Interleaf and I ignored him, but this HTML thing later became a big\n",
      "part of my life.In the fall of 1992 I moved back to Providence to continue at RISD.\n",
      "The foundation had merely been intro stuff, and the Accademia had\n",
      "been a (very civilized) joke. Now I was going to see what real art\n",
      "school was like. But alas it was more like the Accademia than not.\n",
      "Better organized, certainly, and a lot more expensive, but it was\n",
      "now becoming clear that art school did not bear the same relationship\n",
      "to art that medical school bore to medicine. At least not the\n",
      "painting department. The textile department, which my next door\n",
      "neighbor belonged to, seemed to be pretty rigorous. No doubt\n",
      "illustration and architecture were too. But painting was post-rigorous.\n",
      "Painting students were supposed to express themselves, which to the\n",
      "more worldly ones meant to try to cook up some sort of distinctive\n",
      "signature style.A signature style is the visual equivalent of what in show business\n",
      "is known as a \"schtick\": something that immediately identifies the\n",
      "work as yours and no one else's. For example, when you see a painting\n",
      "that looks like a certain kind of cartoon, you know it's by Roy\n",
      "Lichtenstein. So if you see a big painting of this type hanging in\n",
      "the apartment of a hedge fund manager, you know he paid millions\n",
      "of dollars for it. That's not always why artists have a signature\n",
      "style, but it's usually why buyers pay a lot for such work.\n",
      "[6]There were plenty of earnest students too: kids who \"could draw\"\n",
      "in high school, and now had come to what was supposed to be the\n",
      "best art school in the country, to learn to draw even better. They\n",
      "tended to be confused and demoralized by what they found at RISD,\n",
      "but they kept going, because painting was what they did. I was not\n",
      "one of the kids who could draw in high school, but at RISD I was\n",
      "definitely closer to their tribe than the tribe of signature style\n",
      "seekers.I learned a lot in the color class I took at RISD, but otherwise I\n",
      "was basically teaching myself to paint, and I could do that for\n",
      "free. So in 1993 I dropped out. I hung around Providence for a bit,\n",
      "and then my college friend Nancy Parmet did me a big favor. A\n",
      "rent-controlled apartment in a building her mother owned in New\n",
      "York was becoming vacant. Did I want it? It wasn't much more than\n",
      "my current place, and New York was supposed to be where the artists\n",
      "were. So yes, I wanted it!\n",
      "[7]Asterix comics begin by zooming in on a tiny corner of Roman Gaul\n",
      "that turns out not to be controlled by the Romans. You can do\n",
      "something similar on a map of New York City: if you zoom in on the\n",
      "Upper East Side, there's a tiny corner that's not rich, or at least\n",
      "wasn't in 1993. It's called Yorkville, and that was my new home.\n",
      "Now I was a New York artist  in the strictly technical sense of\n",
      "making paintings and living in New York.I was nervous about money, because I could sense that Interleaf was\n",
      "on the way down. Freelance Lisp hacking work was very rare, and I\n",
      "didn't want to have to program in another language, which in those\n",
      "days would have meant C++ if I was lucky. So with my unerring nose\n",
      "for financial opportunity, I decided to write another book on Lisp.\n",
      "This would be a popular book, the sort of book that could be used\n",
      "as a textbook. I imagined myself living frugally off the royalties\n",
      "and spending all my time painting. (The painting on the cover of\n",
      "this book, ANSI Common Lisp, is one that I painted around this\n",
      "time.)The best thing about New York for me was the presence of Idelle and\n",
      "Julian Weber. Idelle Weber was a painter, one of the early\n",
      "photorealists, and I'd taken her painting class at Harvard. I've\n",
      "never known a teacher more beloved by her students. Large numbers\n",
      "of former students kept in touch with her, including me. After I\n",
      "moved to New York I became her de facto studio assistant.She liked to paint on big, square canvases, 4 to 5 feet on a side.\n",
      "One day in late 1994 as I was stretching one of these monsters there\n",
      "was something on the radio about a famous fund manager. He wasn't\n",
      "that much older than me, and was super rich. The thought suddenly\n",
      "occurred to me: why don't I become rich? Then I'll be able to work\n",
      "on whatever I want.Meanwhile I'd been hearing more and more about this new thing called\n",
      "the World Wide Web. Robert Morris showed it to me when I visited\n",
      "him in Cambridge, where he was now in grad school at Harvard. It\n",
      "seemed to me that the web would be a big deal. I'd seen what graphical\n",
      "user interfaces had done for the popularity of microcomputers. It\n",
      "seemed like the web would do the same for the internet.If I wanted to get rich, here was the next train leaving the station.\n",
      "I was right about that part. What I got wrong was the idea. I decided\n",
      "we should start a company to put art galleries online. I can't\n",
      "honestly say, after reading so many Y Combinator applications, that\n",
      "this was the worst startup idea ever, but it was up there. Art\n",
      "galleries didn't want to be online, and still don't, not the fancy\n",
      "ones. That's not how they sell. I wrote some software to generate\n",
      "web sites for galleries, and Robert wrote some to resize images and\n",
      "set up an http server to serve the pages. Then we tried to sign up\n",
      "galleries. To call this a difficult sale would be an understatement.\n",
      "It was difficult to give away. A few galleries let us make sites\n",
      "for them for free, but none paid us.Then some online stores started to appear, and I realized that\n",
      "except for the order buttons they were identical to the sites we'd\n",
      "been generating for galleries. This impressive-sounding thing called\n",
      "an \"internet storefront\" was something we already knew how to build.So in the summer of 1995, after I submitted the camera-ready copy\n",
      "of ANSI Common Lisp to the publishers, we started trying to write\n",
      "software to build online stores. At first this was going to be\n",
      "normal desktop software, which in those days meant Windows software.\n",
      "That was an alarming prospect, because neither of us knew how to\n",
      "write Windows software or wanted to learn. We lived in the Unix\n",
      "world. But we decided we'd at least try writing a prototype store\n",
      "builder on Unix. Robert wrote a shopping cart, and I wrote a new\n",
      "site generator for stores  in Lisp, of course.We were working out of Robert's apartment in Cambridge. His roommate\n",
      "was away for big chunks of time, during which I got to sleep in his\n",
      "room. For some reason there was no bed frame or sheets, just a\n",
      "mattress on the floor. One morning as I was lying on this mattress\n",
      "I had an idea that made me sit up like a capital L. What if we ran\n",
      "the software on the server, and let users control it by clicking\n",
      "on links? Then we'd never have to write anything to run on users'\n",
      "computers. We could generate the sites on the same server we'd serve\n",
      "them from. Users wouldn't need anything more than a browser.This kind of software, known as a web app, is common now, but at\n",
      "the time it wasn't clear that it was even possible. To find out,\n",
      "we decided to try making a version of our store builder that you\n",
      "could control through the browser. A couple days later, on August\n",
      "12, we had one that worked. The UI was horrible, but it proved you\n",
      "could build a whole store through the browser, without any client\n",
      "software or typing anything into the command line on the server.Now we felt like we were really onto something. I had visions of a\n",
      "whole new generation of software working this way. You wouldn't\n",
      "need versions, or ports, or any of that crap. At Interleaf there\n",
      "had been a whole group called Release Engineering that seemed to\n",
      "be at least as big as the group that actually wrote the software.\n",
      "Now you could just update the software right on the server.We started a new company we called Viaweb, after the fact that our\n",
      "software worked via the web, and we got $10,000 in seed funding\n",
      "from Idelle's husband Julian. In return for that and doing the\n",
      "initial legal work and giving us business advice, we gave him 10%\n",
      "of the company. Ten years later this deal became the model for Y\n",
      "Combinator's. We knew founders needed something like this, because\n",
      "we'd needed it ourselves.At this stage I had a negative net worth, because the thousand\n",
      "dollars or so I had in the bank was more than counterbalanced by\n",
      "what I owed the government in taxes. (Had I diligently set aside\n",
      "the proper proportion of the money I'd made consulting for Interleaf?\n",
      "No, I had not.) So although Robert had his graduate student stipend,\n",
      "I needed that seed funding to live on.We originally hoped to launch in September, but we got more ambitious\n",
      "about the software as we worked on it. Eventually we managed to\n",
      "build a WYSIWYG site builder, in the sense that as you were creating\n",
      "pages, they looked exactly like the static ones that would be\n",
      "generated later, except that instead of leading to static pages,\n",
      "the links all referred to closures stored in a hash table on the\n",
      "server.It helped to have studied art, because the main goal of an online\n",
      "store builder is to make users look legit, and the key to looking\n",
      "legit is high production values. If you get page layouts and fonts\n",
      "and colors right, you can make a guy running a store out of his\n",
      "bedroom look more legit than a big company.(If you're curious why my site looks so old-fashioned, it's because\n",
      "it's still made with this software. It may look clunky today, but\n",
      "in 1996 it was the last word in slick.)In September, Robert rebelled. \"We've been working on this for a\n",
      "month,\" he said, \"and it's still not done.\" This is funny in\n",
      "retrospect, because he would still be working on it almost 3 years\n",
      "later. But I decided it might be prudent to recruit more programmers,\n",
      "and I asked Robert who else in grad school with him was really good.\n",
      "He recommended Trevor Blackwell, which surprised me at first, because\n",
      "at that point I knew Trevor mainly for his plan to reduce everything\n",
      "in his life to a stack of notecards, which he carried around with\n",
      "him. But Rtm was right, as usual. Trevor turned out to be a\n",
      "frighteningly effective hacker.It was a lot of fun working with Robert and Trevor. They're the two\n",
      "most independent-minded people \n",
      "I know, and in completely different\n",
      "ways. If you could see inside Rtm's brain it would look like a\n",
      "colonial New England church, and if you could see inside Trevor's\n",
      "it would look like the worst excesses of Austrian Rococo.We opened for business, with 6 stores, in January 1996. It was just\n",
      "as well we waited a few months, because although we worried we were\n",
      "late, we were actually almost fatally early. There was a lot of\n",
      "talk in the press then about ecommerce, but not many people actually\n",
      "wanted online stores.\n",
      "[8]There were three main parts to the software: the editor, which\n",
      "people used to build sites and which I wrote, the shopping cart,\n",
      "which Robert wrote, and the manager, which kept track of orders and\n",
      "statistics, and which Trevor wrote. In its time, the editor was one\n",
      "of the best general-purpose site builders. I kept the code tight\n",
      "and didn't have to integrate with any other software except Robert's\n",
      "and Trevor's, so it was quite fun to work on. If all I'd had to do\n",
      "was work on this software, the next 3 years would have been the\n",
      "easiest of my life. Unfortunately I had to do a lot more, all of\n",
      "it stuff I was worse at than programming, and the next 3 years were\n",
      "instead the most stressful.There were a lot of startups making ecommerce software in the second\n",
      "half of the 90s. We were determined to be the Microsoft Word, not\n",
      "the Interleaf. Which meant being easy to use and inexpensive. It\n",
      "was lucky for us that we were poor, because that caused us to make\n",
      "Viaweb even more inexpensive than we realized. We charged $100 a\n",
      "month for a small store and $300 a month for a big one. This low\n",
      "price was a big attraction, and a constant thorn in the sides of\n",
      "competitors, but it wasn't because of some clever insight that we\n",
      "set the price low. We had no idea what businesses paid for things.\n",
      "$300 a month seemed like a lot of money to us.We did a lot of things right by accident like that. For example,\n",
      "we did what's now called \"doing things that \n",
      "don't scale,\" although\n",
      "at the time we would have described it as \"being so lame that we're\n",
      "driven to the most desperate measures to get users.\" The most common\n",
      "of which was building stores for them. This seemed particularly\n",
      "humiliating, since the whole raison d'etre of our software was that\n",
      "people could use it to make their own stores. But anything to get\n",
      "users.We learned a lot more about retail than we wanted to know. For\n",
      "example, that if you could only have a small image of a man's shirt\n",
      "(and all images were small then by present standards), it was better\n",
      "to have a closeup of the collar than a picture of the whole shirt.\n",
      "The reason I remember learning this was that it meant I had to\n",
      "rescan about 30 images of men's shirts. My first set of scans were\n",
      "so beautiful too.Though this felt wrong, it was exactly the right thing to be doing.\n",
      "Building stores for users taught us about retail, and about how it\n",
      "felt to use our software. I was initially both mystified and repelled\n",
      "by \"business\" and thought we needed a \"business person\" to be in\n",
      "charge of it, but once we started to get users, I was converted,\n",
      "in much the same way I was converted to \n",
      "fatherhood once I had kids.\n",
      "Whatever users wanted, I was all theirs. Maybe one day we'd have\n",
      "so many users that I couldn't scan their images for them, but in\n",
      "the meantime there was nothing more important to do.Another thing I didn't get at the time is that \n",
      "growth rate is the\n",
      "ultimate test of a startup. Our growth rate was fine. We had about\n",
      "70 stores at the end of 1996 and about 500 at the end of 1997. I\n",
      "mistakenly thought the thing that mattered was the absolute number\n",
      "of users. And that is the thing that matters in the sense that\n",
      "that's how much money you're making, and if you're not making enough,\n",
      "you might go out of business. But in the long term the growth rate\n",
      "takes care of the absolute number. If we'd been a startup I was\n",
      "advising at Y Combinator, I would have said: Stop being so stressed\n",
      "out, because you're doing fine. You're growing 7x a year. Just don't\n",
      "hire too many more people and you'll soon be profitable, and then\n",
      "you'll control your own destiny.Alas I hired lots more people, partly because our investors wanted\n",
      "me to, and partly because that's what startups did during the\n",
      "Internet Bubble. A company with just a handful of employees would\n",
      "have seemed amateurish. So we didn't reach breakeven until about\n",
      "when Yahoo bought us in the summer of 1998. Which in turn meant we\n",
      "were at the mercy of investors for the entire life of the company.\n",
      "And since both we and our investors were noobs at startups, the\n",
      "result was a mess even by startup standards.It was a huge relief when Yahoo bought us. In principle our Viaweb\n",
      "stock was valuable. It was a share in a business that was profitable\n",
      "and growing rapidly. But it didn't feel very valuable to me; I had\n",
      "no idea how to value a business, but I was all too keenly aware of\n",
      "the near-death experiences we seemed to have every few months. Nor\n",
      "had I changed my grad student lifestyle significantly since we\n",
      "started. So when Yahoo bought us it felt like going from rags to\n",
      "riches. Since we were going to California, I bought a car, a yellow\n",
      "1998 VW GTI. I remember thinking that its leather seats alone were\n",
      "by far the most luxurious thing I owned.The next year, from the summer of 1998 to the summer of 1999, must\n",
      "have been the least productive of my life. I didn't realize it at\n",
      "the time, but I was worn out from the effort and stress of running\n",
      "Viaweb. For a while after I got to California I tried to continue\n",
      "my usual m.o. of programming till 3 in the morning, but fatigue\n",
      "combined with Yahoo's prematurely aged\n",
      "culture and grim cube farm\n",
      "in Santa Clara gradually dragged me down. After a few months it\n",
      "felt disconcertingly like working at Interleaf.Yahoo had given us a lot of options when they bought us. At the\n",
      "time I thought Yahoo was so overvalued that they'd never be worth\n",
      "anything, but to my astonishment the stock went up 5x in the next\n",
      "year. I hung on till the first chunk of options vested, then in the\n",
      "summer of 1999 I left. It had been so long since I'd painted anything\n",
      "that I'd half forgotten why I was doing this. My brain had been\n",
      "entirely full of software and men's shirts for 4 years. But I had\n",
      "done this to get rich so I could paint, I reminded myself, and now\n",
      "I was rich, so I should go paint.When I said I was leaving, my boss at Yahoo had a long conversation\n",
      "with me about my plans. I told him all about the kinds of pictures\n",
      "I wanted to paint. At the time I was touched that he took such an\n",
      "interest in me. Now I realize it was because he thought I was lying.\n",
      "My options at that point were worth about $2 million a month. If I\n",
      "was leaving that kind of money on the table, it could only be to\n",
      "go and start some new startup, and if I did, I might take people\n",
      "with me. This was the height of the Internet Bubble, and Yahoo was\n",
      "ground zero of it. My boss was at that moment a billionaire. Leaving\n",
      "then to start a new startup must have seemed to him an insanely,\n",
      "and yet also plausibly, ambitious plan.But I really was quitting to paint, and I started immediately.\n",
      "There was no time to lose. I'd already burned 4 years getting rich.\n",
      "Now when I talk to founders who are leaving after selling their\n",
      "companies, my advice is always the same: take a vacation. That's\n",
      "what I should have done, just gone off somewhere and done nothing\n",
      "for a month or two, but the idea never occurred to me.So I tried to paint, but I just didn't seem to have any energy or\n",
      "ambition. Part of the problem was that I didn't know many people\n",
      "in California. I'd compounded this problem by buying a house up in\n",
      "the Santa Cruz Mountains, with a beautiful view but miles from\n",
      "anywhere. I stuck it out for a few more months, then in desperation\n",
      "I went back to New York, where unless you understand about rent\n",
      "control you'll be surprised to hear I still had my apartment, sealed\n",
      "up like a tomb of my old life. Idelle was in New York at least, and\n",
      "there were other people trying to paint there, even though I didn't\n",
      "know any of them.When I got back to New York I resumed my old life, except now I was\n",
      "rich. It was as weird as it sounds. I resumed all my old patterns,\n",
      "except now there were doors where there hadn't been. Now when I was\n",
      "tired of walking, all I had to do was raise my hand, and (unless\n",
      "it was raining) a taxi would stop to pick me up. Now when I walked\n",
      "past charming little restaurants I could go in and order lunch. It\n",
      "was exciting for a while. Painting started to go better. I experimented\n",
      "with a new kind of still life where I'd paint one painting in the\n",
      "old way, then photograph it and print it, blown up, on canvas, and\n",
      "then use that as the underpainting for a second still life, painted\n",
      "from the same objects (which hopefully hadn't rotted yet).Meanwhile I looked for an apartment to buy. Now I could actually\n",
      "choose what neighborhood to live in. Where, I asked myself and\n",
      "various real estate agents, is the Cambridge of New York? Aided by\n",
      "occasional visits to actual Cambridge, I gradually realized there\n",
      "wasn't one. Huh.Around this time, in the spring of 2000, I had an idea. It was clear\n",
      "from our experience with Viaweb that web apps were the future. Why\n",
      "not build a web app for making web apps? Why not let people edit\n",
      "code on our server through the browser, and then host the resulting\n",
      "applications for them?\n",
      "[9]\n",
      "You could run all sorts of services\n",
      "on the servers that these applications could use just by making an\n",
      "API call: making and receiving phone calls, manipulating images,\n",
      "taking credit card payments, etc.I got so excited about this idea that I couldn't think about anything\n",
      "else. It seemed obvious that this was the future. I didn't particularly\n",
      "want to start another company, but it was clear that this idea would\n",
      "have to be embodied as one, so I decided to move to Cambridge and\n",
      "start it. I hoped to lure Robert into working on it with me, but\n",
      "there I ran into a hitch. Robert was now a postdoc at MIT, and\n",
      "though he'd made a lot of money the last time I'd lured him into\n",
      "working on one of my schemes, it had also been a huge time sink.\n",
      "So while he agreed that it sounded like a plausible idea, he firmly\n",
      "refused to work on it.Hmph. Well, I'd do it myself then. I recruited Dan Giffin, who had\n",
      "worked for Viaweb, and two undergrads who wanted summer jobs, and\n",
      "we got to work trying to build what it's now clear is about twenty\n",
      "companies and several open source projects worth of software. The\n",
      "language for defining applications would of course be a dialect of\n",
      "Lisp. But I wasn't so naive as to assume I could spring an overt\n",
      "Lisp on a general audience; we'd hide the parentheses, like Dylan\n",
      "did.By then there was a name for the kind of company Viaweb was, an\n",
      "\"application service provider,\" or ASP. This name didn't last long\n",
      "before it was replaced by \"software as a service,\" but it was current\n",
      "for long enough that I named this new company after it: it was going\n",
      "to be called Aspra.I started working on the application builder, Dan worked on network\n",
      "infrastructure, and the two undergrads worked on the first two\n",
      "services (images and phone calls). But about halfway through the\n",
      "summer I realized I really didn't want to run a company  especially\n",
      "not a big one, which it was looking like this would have to be. I'd\n",
      "only started Viaweb because I needed the money. Now that I didn't\n",
      "need money anymore, why was I doing this? If this vision had to be\n",
      "realized as a company, then screw the vision. I'd build a subset\n",
      "that could be done as an open source project.Much to my surprise, the time I spent working on this stuff was not\n",
      "wasted after all. After we started Y Combinator, I would often\n",
      "encounter startups working on parts of this new architecture, and\n",
      "it was very useful to have spent so much time thinking about it and\n",
      "even trying to write some of it.The subset I would build as an open source project was the new Lisp,\n",
      "whose parentheses I now wouldn't even have to hide. A lot of Lisp\n",
      "hackers dream of building a new Lisp, partly because one of the\n",
      "distinctive features of the language is that it has dialects, and\n",
      "partly, I think, because we have in our minds a Platonic form of\n",
      "Lisp that all existing dialects fall short of. I certainly did. So\n",
      "at the end of the summer Dan and I switched to working on this new\n",
      "dialect of Lisp, which I called Arc, in a house I bought in Cambridge.The following spring, lightning struck. I was invited to give a\n",
      "talk at a Lisp conference, so I gave one about how we'd used Lisp\n",
      "at Viaweb. Afterward I put a postscript file of this talk online,\n",
      "on paulgraham.com, which I'd created years before using Viaweb but\n",
      "had never used for anything. In one day it got 30,000 page views.\n",
      "What on earth had happened? The referring urls showed that someone\n",
      "had posted it on Slashdot.\n",
      "[10]Wow, I thought, there's an audience. If I write something and put\n",
      "it on the web, anyone can read it. That may seem obvious now, but\n",
      "it was surprising then. In the print era there was a narrow channel\n",
      "to readers, guarded by fierce monsters known as editors. The only\n",
      "way to get an audience for anything you wrote was to get it published\n",
      "as a book, or in a newspaper or magazine. Now anyone could publish\n",
      "anything.This had been possible in principle since 1993, but not many people\n",
      "had realized it yet. I had been intimately involved with building\n",
      "the infrastructure of the web for most of that time, and a writer\n",
      "as well, and it had taken me 8 years to realize it. Even then it\n",
      "took me several years to understand the implications. It meant there\n",
      "would be a whole new generation of \n",
      "essays.\n",
      "[11]In the print era, the channel for publishing essays had been\n",
      "vanishingly small. Except for a few officially anointed thinkers\n",
      "who went to the right parties in New York, the only people allowed\n",
      "to publish essays were specialists writing about their specialties.\n",
      "There were so many essays that had never been written, because there\n",
      "had been no way to publish them. Now they could be, and I was going\n",
      "to write them.\n",
      "[12]I've worked on several different things, but to the extent there\n",
      "was a turning point where I figured out what to work on, it was\n",
      "when I started publishing essays online. From then on I knew that\n",
      "whatever else I did, I'd always write essays too.I knew that online essays would be a \n",
      "marginal medium at first.\n",
      "Socially they'd seem more like rants posted by nutjobs on their\n",
      "GeoCities sites than the genteel and beautifully typeset compositions\n",
      "published in The New Yorker. But by this point I knew enough to\n",
      "find that encouraging instead of discouraging.One of the most conspicuous patterns I've noticed in my life is how\n",
      "well it has worked, for me at least, to work on things that weren't\n",
      "prestigious. Still life has always been the least prestigious form\n",
      "of painting. Viaweb and Y Combinator both seemed lame when we started\n",
      "them. I still get the glassy eye from strangers when they ask what\n",
      "I'm writing, and I explain that it's an essay I'm going to publish\n",
      "on my web site. Even Lisp, though prestigious intellectually in\n",
      "something like the way Latin is, also seems about as hip.It's not that unprestigious types of work are good per se. But when\n",
      "you find yourself drawn to some kind of work despite its current\n",
      "lack of prestige, it's a sign both that there's something real to\n",
      "be discovered there, and that you have the right kind of motives.\n",
      "Impure motives are a big danger for the ambitious. If anything is\n",
      "going to lead you astray, it will be the desire to impress people.\n",
      "So while working on things that aren't prestigious doesn't guarantee\n",
      "you're on the right track, it at least guarantees you're not on the\n",
      "most common type of wrong one.Over the next several years I wrote lots of essays about all kinds\n",
      "of different topics. O'Reilly reprinted a collection of them as a\n",
      "book, called Hackers & Painters after one of the essays in it. I\n",
      "also worked on spam filters, and did some more painting. I used to\n",
      "have dinners for a group of friends every thursday night, which\n",
      "taught me how to cook for groups. And I bought another building in\n",
      "Cambridge, a former candy factory (and later, twas said, porn\n",
      "studio), to use as an office.One night in October 2003 there was a big party at my house. It was\n",
      "a clever idea of my friend Maria Daniels, who was one of the thursday\n",
      "diners. Three separate hosts would all invite their friends to one\n",
      "party. So for every guest, two thirds of the other guests would be\n",
      "people they didn't know but would probably like. One of the guests\n",
      "was someone I didn't know but would turn out to like a lot: a woman\n",
      "called Jessica Livingston. A couple days later I asked her out.Jessica was in charge of marketing at a Boston investment bank.\n",
      "This bank thought it understood startups, but over the next year,\n",
      "as she met friends of mine from the startup world, she was surprised\n",
      "how different reality was. And how colorful their stories were. So\n",
      "she decided to compile a book of \n",
      "interviews with startup founders.When the bank had financial problems and she had to fire half her\n",
      "staff, she started looking for a new job. In early 2005 she interviewed\n",
      "for a marketing job at a Boston VC firm. It took them weeks to make\n",
      "up their minds, and during this time I started telling her about\n",
      "all the things that needed to be fixed about venture capital. They\n",
      "should make a larger number of smaller investments instead of a\n",
      "handful of giant ones, they should be funding younger, more technical\n",
      "founders instead of MBAs, they should let the founders remain as\n",
      "CEO, and so on.One of my tricks for writing essays had always been to give talks.\n",
      "The prospect of having to stand up in front of a group of people\n",
      "and tell them something that won't waste their time is a great\n",
      "spur to the imagination. When the Harvard Computer Society, the\n",
      "undergrad computer club, asked me to give a talk, I decided I would\n",
      "tell them how to start a startup. Maybe they'd be able to avoid the\n",
      "worst of the mistakes we'd made.So I gave this talk, in the course of which I told them that the\n",
      "best sources of seed funding were successful startup founders,\n",
      "because then they'd be sources of advice too. Whereupon it seemed\n",
      "they were all looking expectantly at me. Horrified at the prospect\n",
      "of having my inbox flooded by business plans (if I'd only known),\n",
      "I blurted out \"But not me!\" and went on with the talk. But afterward\n",
      "it occurred to me that I should really stop procrastinating about\n",
      "angel investing. I'd been meaning to since Yahoo bought us, and now\n",
      "it was 7 years later and I still hadn't done one angel investment.Meanwhile I had been scheming with Robert and Trevor about projects\n",
      "we could work on together. I missed working with them, and it seemed\n",
      "like there had to be something we could collaborate on.As Jessica and I were walking home from dinner on March 11, at the\n",
      "corner of Garden and Walker streets, these three threads converged.\n",
      "Screw the VCs who were taking so long to make up their minds. We'd\n",
      "start our own investment firm and actually implement the ideas we'd\n",
      "been talking about. I'd fund it, and Jessica could quit her job and\n",
      "work for it, and we'd get Robert and Trevor as partners too.\n",
      "[13]Once again, ignorance worked in our favor. We had no idea how to\n",
      "be angel investors, and in Boston in 2005 there were no Ron Conways\n",
      "to learn from. So we just made what seemed like the obvious choices,\n",
      "and some of the things we did turned out to be novel.There are multiple components to Y Combinator, and we didn't figure\n",
      "them all out at once. The part we got first was to be an angel firm.\n",
      "In those days, those two words didn't go together. There were VC\n",
      "firms, which were organized companies with people whose job it was\n",
      "to make investments, but they only did big, million dollar investments.\n",
      "And there were angels, who did smaller investments, but these were\n",
      "individuals who were usually focused on other things and made\n",
      "investments on the side. And neither of them helped founders enough\n",
      "in the beginning. We knew how helpless founders were in some respects,\n",
      "because we remembered how helpless we'd been. For example, one thing\n",
      "Julian had done for us that seemed to us like magic was to get us\n",
      "set up as a company. We were fine writing fairly difficult software,\n",
      "but actually getting incorporated, with bylaws and stock and all\n",
      "that stuff, how on earth did you do that? Our plan was not only to\n",
      "make seed investments, but to do for startups everything Julian had\n",
      "done for us.YC was not organized as a fund. It was cheap enough to run that we\n",
      "funded it with our own money. That went right by 99% of readers,\n",
      "but professional investors are thinking \"Wow, that means they got\n",
      "all the returns.\" But once again, this was not due to any particular\n",
      "insight on our part. We didn't know how VC firms were organized.\n",
      "It never occurred to us to try to raise a fund, and if it had, we\n",
      "wouldn't have known where to start.\n",
      "[14]The most distinctive thing about YC is the batch model: to fund a\n",
      "bunch of startups all at once, twice a year, and then to spend three\n",
      "months focusing intensively on trying to help them. That part we\n",
      "discovered by accident, not merely implicitly but explicitly due\n",
      "to our ignorance about investing. We needed to get experience as\n",
      "investors. What better way, we thought, than to fund a whole bunch\n",
      "of startups at once? We knew undergrads got temporary jobs at tech\n",
      "companies during the summer. Why not organize a summer program where\n",
      "they'd start startups instead? We wouldn't feel guilty for being\n",
      "in a sense fake investors, because they would in a similar sense\n",
      "be fake founders. So while we probably wouldn't make much money out\n",
      "of it, we'd at least get to practice being investors on them, and\n",
      "they for their part would probably have a more interesting summer\n",
      "than they would working at Microsoft.We'd use the building I owned in Cambridge as our headquarters.\n",
      "We'd all have dinner there once a week  on tuesdays, since I was\n",
      "already cooking for the thursday diners on thursdays  and after\n",
      "dinner we'd bring in experts on startups to give talks.We knew undergrads were deciding then about summer jobs, so in a\n",
      "matter of days we cooked up something we called the Summer Founders\n",
      "Program, and I posted an \n",
      "announcement \n",
      "on my site, inviting undergrads\n",
      "to apply. I had never imagined that writing essays would be a way\n",
      "to get \"deal flow,\" as investors call it, but it turned out to be\n",
      "the perfect source.\n",
      "[15]\n",
      "We got 225 applications for the Summer\n",
      "Founders Program, and we were surprised to find that a lot of them\n",
      "were from people who'd already graduated, or were about to that\n",
      "spring. Already this SFP thing was starting to feel more serious\n",
      "than we'd intended.We invited about 20 of the 225 groups to interview in person, and\n",
      "from those we picked 8 to fund. They were an impressive group. That\n",
      "first batch included reddit, Justin Kan and Emmett Shear, who went\n",
      "on to found Twitch, Aaron Swartz, who had already helped write the\n",
      "RSS spec and would a few years later become a martyr for open access,\n",
      "and Sam Altman, who would later become the second president of YC.\n",
      "I don't think it was entirely luck that the first batch was so good.\n",
      "You had to be pretty bold to sign up for a weird thing like the\n",
      "Summer Founders Program instead of a summer job at a legit place\n",
      "like Microsoft or Goldman Sachs.The deal for startups was based on a combination of the deal we did\n",
      "with Julian ($10k for 10%) and what Robert said MIT grad students\n",
      "got for the summer ($6k). We invested $6k per founder, which in the\n",
      "typical two-founder case was $12k, in return for 6%. That had to\n",
      "be fair, because it was twice as good as the deal we ourselves had\n",
      "taken. Plus that first summer, which was really hot, Jessica brought\n",
      "the founders free air conditioners.\n",
      "[16]Fairly quickly I realized that we had stumbled upon the way to scale\n",
      "startup funding. Funding startups in batches was more convenient\n",
      "for us, because it meant we could do things for a lot of startups\n",
      "at once, but being part of a batch was better for the startups too.\n",
      "It solved one of the biggest problems faced by founders: the\n",
      "isolation. Now you not only had colleagues, but colleagues who\n",
      "understood the problems you were facing and could tell you how they\n",
      "were solving them.As YC grew, we started to notice other advantages of scale. The\n",
      "alumni became a tight community, dedicated to helping one another,\n",
      "and especially the current batch, whose shoes they remembered being\n",
      "in. We also noticed that the startups were becoming one another's\n",
      "customers. We used to refer jokingly to the \"YC GDP,\" but as YC\n",
      "grows this becomes less and less of a joke. Now lots of startups\n",
      "get their initial set of customers almost entirely from among their\n",
      "batchmates.I had not originally intended YC to be a full-time job. I was going\n",
      "to do three things: hack, write essays, and work on YC. As YC grew,\n",
      "and I grew more excited about it, it started to take up a lot more\n",
      "than a third of my attention. But for the first few years I was\n",
      "still able to work on other things.In the summer of 2006, Robert and I started working on a new version\n",
      "of Arc. This one was reasonably fast, because it was compiled into\n",
      "Scheme. To test this new Arc, I wrote Hacker News in it. It was\n",
      "originally meant to be a news aggregator for startup founders and\n",
      "was called Startup News, but after a few months I got tired of\n",
      "reading about nothing but startups. Plus it wasn't startup founders\n",
      "we wanted to reach. It was future startup founders. So I changed\n",
      "the name to Hacker News and the topic to whatever engaged one's\n",
      "intellectual curiosity.HN was no doubt good for YC, but it was also by far the biggest\n",
      "source of stress for me. If all I'd had to do was select and help\n",
      "founders, life would have been so easy. And that implies that HN\n",
      "was a mistake. Surely the biggest source of stress in one's work\n",
      "should at least be something close to the core of the work. Whereas\n",
      "I was like someone who was in pain while running a marathon not\n",
      "from the exertion of running, but because I had a blister from an\n",
      "ill-fitting shoe. When I was dealing with some urgent problem during\n",
      "YC, there was about a 60% chance it had to do with HN, and a 40%\n",
      "chance it had do with everything else combined.\n",
      "[17]As well as HN, I wrote all of YC's internal software in Arc. But\n",
      "while I continued to work a good deal in Arc, I gradually stopped\n",
      "working on Arc, partly because I didn't have time to, and partly\n",
      "because it was a lot less attractive to mess around with the language\n",
      "now that we had all this infrastructure depending on it. So now my\n",
      "three projects were reduced to two: writing essays and working on\n",
      "YC.YC was different from other kinds of work I've done. Instead of\n",
      "deciding for myself what to work on, the problems came to me. Every\n",
      "6 months there was a new batch of startups, and their problems,\n",
      "whatever they were, became our problems. It was very engaging work,\n",
      "because their problems were quite varied, and the good founders\n",
      "were very effective. If you were trying to learn the most you could\n",
      "about startups in the shortest possible time, you couldn't have\n",
      "picked a better way to do it.There were parts of the job I didn't like. Disputes between cofounders,\n",
      "figuring out when people were lying to us, fighting with people who\n",
      "maltreated the startups, and so on. But I worked hard even at the\n",
      "parts I didn't like. I was haunted by something Kevin Hale once\n",
      "said about companies: \"No one works harder than the boss.\" He meant\n",
      "it both descriptively and prescriptively, and it was the second\n",
      "part that scared me. I wanted YC to be good, so if how hard I worked\n",
      "set the upper bound on how hard everyone else worked, I'd better\n",
      "work very hard.One day in 2010, when he was visiting California for interviews,\n",
      "Robert Morris did something astonishing: he offered me unsolicited\n",
      "advice. I can only remember him doing that once before. One day at\n",
      "Viaweb, when I was bent over double from a kidney stone, he suggested\n",
      "that it would be a good idea for him to take me to the hospital.\n",
      "That was what it took for Rtm to offer unsolicited advice. So I\n",
      "remember his exact words very clearly. \"You know,\" he said, \"you\n",
      "should make sure Y Combinator isn't the last cool thing you do.\"At the time I didn't understand what he meant, but gradually it\n",
      "dawned on me that he was saying I should quit. This seemed strange\n",
      "advice, because YC was doing great. But if there was one thing rarer\n",
      "than Rtm offering advice, it was Rtm being wrong. So this set me\n",
      "thinking. It was true that on my current trajectory, YC would be\n",
      "the last thing I did, because it was only taking up more of my\n",
      "attention. It had already eaten Arc, and was in the process of\n",
      "eating essays too. Either YC was my life's work or I'd have to leave\n",
      "eventually. And it wasn't, so I would.In the summer of 2012 my mother had a stroke, and the cause turned\n",
      "out to be a blood clot caused by colon cancer. The stroke destroyed\n",
      "her balance, and she was put in a nursing home, but she really\n",
      "wanted to get out of it and back to her house, and my sister and I\n",
      "were determined to help her do it. I used to fly up to Oregon to\n",
      "visit her regularly, and I had a lot of time to think on those\n",
      "flights. On one of them I realized I was ready to hand YC over to\n",
      "someone else.I asked Jessica if she wanted to be president, but she didn't, so\n",
      "we decided we'd try to recruit Sam Altman. We talked to Robert and\n",
      "Trevor and we agreed to make it a complete changing of the guard.\n",
      "Up till that point YC had been controlled by the original LLC we\n",
      "four had started. But we wanted YC to last for a long time, and to\n",
      "do that it couldn't be controlled by the founders. So if Sam said\n",
      "yes, we'd let him reorganize YC. Robert and I would retire, and\n",
      "Jessica and Trevor would become ordinary partners.When we asked Sam if he wanted to be president of YC, initially he\n",
      "said no. He wanted to start a startup to make nuclear reactors.\n",
      "But I kept at it, and in October 2013 he finally agreed. We decided\n",
      "he'd take over starting with the winter 2014 batch. For the rest\n",
      "of 2013 I left running YC more and more to Sam, partly so he could\n",
      "learn the job, and partly because I was focused on my mother, whose\n",
      "cancer had returned.She died on January 15, 2014. We knew this was coming, but it was\n",
      "still hard when it did.I kept working on YC till March, to help get that batch of startups\n",
      "through Demo Day, then I checked out pretty completely. (I still\n",
      "talk to alumni and to new startups working on things I'm interested\n",
      "in, but that only takes a few hours a week.)What should I do next? Rtm's advice hadn't included anything about\n",
      "that. I wanted to do something completely different, so I decided\n",
      "I'd paint. I wanted to see how good I could get if I really focused\n",
      "on it. So the day after I stopped working on YC, I started painting.\n",
      "I was rusty and it took a while to get back into shape, but it was\n",
      "at least completely engaging.\n",
      "[18]I spent most of the rest of 2014 painting. I'd never been able to\n",
      "work so uninterruptedly before, and I got to be better than I had\n",
      "been. Not good enough, but better. Then in November, right in the\n",
      "middle of a painting, I ran out of steam. Up till that point I'd\n",
      "always been curious to see how the painting I was working on would\n",
      "turn out, but suddenly finishing this one seemed like a chore. So\n",
      "I stopped working on it and cleaned my brushes and haven't painted\n",
      "since. So far anyway.I realize that sounds rather wimpy. But attention is a zero sum\n",
      "game. If you can choose what to work on, and you choose a project\n",
      "that's not the best one (or at least a good one) for you, then it's\n",
      "getting in the way of another project that is. And at 50 there was\n",
      "some opportunity cost to screwing around.I started writing essays again, and wrote a bunch of new ones over\n",
      "the next few months. I even wrote a couple that \n",
      "weren't about\n",
      "startups. Then in March 2015 I started working on Lisp again.The distinctive thing about Lisp is that its core is a language\n",
      "defined by writing an interpreter in itself. It wasn't originally\n",
      "intended as a programming language in the ordinary sense. It was\n",
      "meant to be a formal model of computation, an alternative to the\n",
      "Turing machine. If you want to write an interpreter for a language\n",
      "in itself, what's the minimum set of predefined operators you need?\n",
      "The Lisp that John McCarthy invented, or more accurately discovered,\n",
      "is an answer to that question.\n",
      "[19]McCarthy didn't realize this Lisp could even be used to program\n",
      "computers till his grad student Steve Russell suggested it. Russell\n",
      "translated McCarthy's interpreter into IBM 704 machine language,\n",
      "and from that point Lisp started also to be a programming language\n",
      "in the ordinary sense. But its origins as a model of computation\n",
      "gave it a power and elegance that other languages couldn't match.\n",
      "It was this that attracted me in college, though I didn't understand\n",
      "why at the time.McCarthy's 1960 Lisp did nothing more than interpret Lisp expressions.\n",
      "It was missing a lot of things you'd want in a programming language.\n",
      "So these had to be added, and when they were, they weren't defined\n",
      "using McCarthy's original axiomatic approach. That wouldn't have\n",
      "been feasible at the time. McCarthy tested his interpreter by\n",
      "hand-simulating the execution of programs. But it was already getting\n",
      "close to the limit of interpreters you could test that way  indeed,\n",
      "there was a bug in it that McCarthy had overlooked. To test a more\n",
      "complicated interpreter, you'd have had to run it, and computers\n",
      "then weren't powerful enough.Now they are, though. Now you could continue using McCarthy's\n",
      "axiomatic approach till you'd defined a complete programming language.\n",
      "And as long as every change you made to McCarthy's Lisp was a\n",
      "discoveredness-preserving transformation, you could, in principle,\n",
      "end up with a complete language that had this quality. Harder to\n",
      "do than to talk about, of course, but if it was possible in principle,\n",
      "why not try? So I decided to take a shot at it. It took 4 years,\n",
      "from March 26, 2015 to October 12, 2019. It was fortunate that I\n",
      "had a precisely defined goal, or it would have been hard to keep\n",
      "at it for so long.I wrote this new Lisp, called Bel, \n",
      "in itself in Arc. That may sound\n",
      "like a contradiction, but it's an indication of the sort of trickery\n",
      "I had to engage in to make this work. By means of an egregious\n",
      "collection of hacks I managed to make something close enough to an\n",
      "interpreter written in itself that could actually run. Not fast,\n",
      "but fast enough to test.I had to ban myself from writing essays during most of this time,\n",
      "or I'd never have finished. In late 2015 I spent 3 months writing\n",
      "essays, and when I went back to working on Bel I could barely\n",
      "understand the code. Not so much because it was badly written as\n",
      "because the problem is so convoluted. When you're working on an\n",
      "interpreter written in itself, it's hard to keep track of what's\n",
      "happening at what level, and errors can be practically encrypted\n",
      "by the time you get them.So I said no more essays till Bel was done. But I told few people\n",
      "about Bel while I was working on it. So for years it must have\n",
      "seemed that I was doing nothing, when in fact I was working harder\n",
      "than I'd ever worked on anything. Occasionally after wrestling for\n",
      "hours with some gruesome bug I'd check Twitter or HN and see someone\n",
      "asking \"Does Paul Graham still code?\"Working on Bel was hard but satisfying. I worked on it so intensively\n",
      "that at any given time I had a decent chunk of the code in my head\n",
      "and could write more there. I remember taking the boys to the\n",
      "coast on a sunny day in 2015 and figuring out how to deal with some\n",
      "problem involving continuations while I watched them play in the\n",
      "tide pools. It felt like I was doing life right. I remember that\n",
      "because I was slightly dismayed at how novel it felt. The good news\n",
      "is that I had more moments like this over the next few years.In the summer of 2016 we moved to England. We wanted our kids to\n",
      "see what it was like living in another country, and since I was a\n",
      "British citizen by birth, that seemed the obvious choice. We only\n",
      "meant to stay for a year, but we liked it so much that we still\n",
      "live there. So most of Bel was written in England.In the fall of 2019, Bel was finally finished. Like McCarthy's\n",
      "original Lisp, it's a spec rather than an implementation, although\n",
      "like McCarthy's Lisp it's a spec expressed as code.Now that I could write essays again, I wrote a bunch about topics\n",
      "I'd had stacked up. I kept writing essays through 2020, but I also\n",
      "started to think about other things I could work on. How should I\n",
      "choose what to do? Well, how had I chosen what to work on in the\n",
      "past? I wrote an essay for myself to answer that question, and I\n",
      "was surprised how long and messy the answer turned out to be. If\n",
      "this surprised me, who'd lived it, then I thought perhaps it would\n",
      "be interesting to other people, and encouraging to those with\n",
      "similarly messy lives. So I wrote a more detailed version for others\n",
      "to read, and this is the last sentence of it.\n",
      "Notes[1]\n",
      "My experience skipped a step in the evolution of computers:\n",
      "time-sharing machines with interactive OSes. I went straight from\n",
      "batch processing to microcomputers, which made microcomputers seem\n",
      "all the more exciting.[2]\n",
      "Italian words for abstract concepts can nearly always be\n",
      "predicted from their English cognates (except for occasional traps\n",
      "like polluzione). It's the everyday words that differ. So if you\n",
      "string together a lot of abstract concepts with a few simple verbs,\n",
      "you can make a little Italian go a long way.[3]\n",
      "I lived at Piazza San Felice 4, so my walk to the Accademia\n",
      "went straight down the spine of old Florence: past the Pitti, across\n",
      "the bridge, past Orsanmichele, between the Duomo and the Baptistery,\n",
      "and then up Via Ricasoli to Piazza San Marco. I saw Florence at\n",
      "street level in every possible condition, from empty dark winter\n",
      "evenings to sweltering summer days when the streets were packed with\n",
      "tourists.[4]\n",
      "You can of course paint people like still lives if you want\n",
      "to, and they're willing. That sort of portrait is arguably the apex\n",
      "of still life painting, though the long sitting does tend to produce\n",
      "pained expressions in the sitters.[5]\n",
      "Interleaf was one of many companies that had smart people and\n",
      "built impressive technology, and yet got crushed by Moore's Law.\n",
      "In the 1990s the exponential growth in the power of commodity (i.e.\n",
      "Intel) processors rolled up high-end, special-purpose hardware and\n",
      "software companies like a bulldozer.[6]\n",
      "The signature style seekers at RISD weren't specifically\n",
      "mercenary. In the art world, money and coolness are tightly coupled.\n",
      "Anything expensive comes to be seen as cool, and anything seen as\n",
      "cool will soon become equally expensive.[7]\n",
      "Technically the apartment wasn't rent-controlled but\n",
      "rent-stabilized, but this is a refinement only New Yorkers would\n",
      "know or care about. The point is that it was really cheap, less\n",
      "than half market price.[8]\n",
      "Most software you can launch as soon as it's done. But when\n",
      "the software is an online store builder and you're hosting the\n",
      "stores, if you don't have any users yet, that fact will be painfully\n",
      "obvious. So before we could launch publicly we had to launch\n",
      "privately, in the sense of recruiting an initial set of users and\n",
      "making sure they had decent-looking stores.[9]\n",
      "We'd had a code editor in Viaweb for users to define their\n",
      "own page styles. They didn't know it, but they were editing Lisp\n",
      "expressions underneath. But this wasn't an app editor, because the\n",
      "code ran when the merchants' sites were generated, not when shoppers\n",
      "visited them.[10]\n",
      "This was the first instance of what is now a familiar experience,\n",
      "and so was what happened next, when I read the comments and found\n",
      "they were full of angry people. How could I claim that Lisp was\n",
      "better than other languages? Weren't they all Turing complete?\n",
      "People who see the responses to essays I write sometimes tell me\n",
      "how sorry they feel for me, but I'm not exaggerating when I reply\n",
      "that it has always been like this, since the very beginning. It\n",
      "comes with the territory. An essay must tell readers things they\n",
      "don't already know, and some \n",
      "people dislike being told such things.[11]\n",
      "People put plenty of stuff on the internet in the 90s of\n",
      "course, but putting something online is not the same as publishing\n",
      "it online. Publishing online means you treat the online version as\n",
      "the (or at least a) primary version.[12]\n",
      "There is a general lesson here that our experience with Y\n",
      "Combinator also teaches: Customs continue to constrain you long\n",
      "after the restrictions that caused them have disappeared. Customary\n",
      "VC practice had once, like the customs about publishing essays,\n",
      "been based on real constraints. Startups had once been much more\n",
      "expensive to start, and proportionally rare. Now they could be cheap\n",
      "and common, but the VCs' customs still reflected the old world,\n",
      "just as customs about writing essays still reflected the constraints\n",
      "of the print era.Which in turn implies that people who are independent-minded (i.e.\n",
      "less influenced by custom) will have an advantage in fields affected\n",
      "by rapid change (where customs are more likely to be obsolete).Here's an interesting point, though: you can't always predict which\n",
      "fields will be affected by rapid change. Obviously software and\n",
      "venture capital will be, but who would have predicted that essay\n",
      "writing would be?[13]\n",
      "Y Combinator was not the original name. At first we were\n",
      "called Cambridge Seed. But we didn't want a regional name, in case\n",
      "someone copied us in Silicon Valley, so we renamed ourselves after\n",
      "one of the coolest tricks in the lambda calculus, the Y combinator.I picked orange as our color partly because it's the warmest, and\n",
      "partly because no VC used it. In 2005 all the VCs used staid colors\n",
      "like maroon, navy blue, and forest green, because they were trying\n",
      "to appeal to LPs, not founders. The YC logo itself is an inside\n",
      "joke: the Viaweb logo had been a white V on a red circle, so I made\n",
      "the YC logo a white Y on an orange square.[14]\n",
      "YC did become a fund for a couple years starting in 2009,\n",
      "because it was getting so big I could no longer afford to fund it\n",
      "personally. But after Heroku got bought we had enough money to go\n",
      "back to being self-funded.[15]\n",
      "I've never liked the term \"deal flow,\" because it implies\n",
      "that the number of new startups at any given time is fixed. This\n",
      "is not only false, but it's the purpose of YC to falsify it, by\n",
      "causing startups to be founded that would not otherwise have existed.[16]\n",
      "She reports that they were all different shapes and sizes,\n",
      "because there was a run on air conditioners and she had to get\n",
      "whatever she could, but that they were all heavier than she could\n",
      "carry now.[17]\n",
      "Another problem with HN was a bizarre edge case that occurs\n",
      "when you both write essays and run a forum. When you run a forum,\n",
      "you're assumed to see if not every conversation, at least every\n",
      "conversation involving you. And when you write essays, people post\n",
      "highly imaginative misinterpretations of them on forums. Individually\n",
      "these two phenomena are tedious but bearable, but the combination\n",
      "is disastrous. You actually have to respond to the misinterpretations,\n",
      "because the assumption that you're present in the conversation means\n",
      "that not responding to any sufficiently upvoted misinterpretation\n",
      "reads as a tacit admission that it's correct. But that in turn\n",
      "encourages more; anyone who wants to pick a fight with you senses\n",
      "that now is their chance.[18]\n",
      "The worst thing about leaving YC was not working with Jessica\n",
      "anymore. We'd been working on YC almost the whole time we'd known\n",
      "each other, and we'd neither tried nor wanted to separate it from\n",
      "our personal lives, so leaving was like pulling up a deeply rooted\n",
      "tree.[19]\n",
      "One way to get more precise about the concept of invented vs\n",
      "discovered is to talk about space aliens. Any sufficiently advanced\n",
      "alien civilization would certainly know about the Pythagorean\n",
      "theorem, for example. I believe, though with less certainty, that\n",
      "they would also know about the Lisp in McCarthy's 1960 paper.But if so there's no reason to suppose that this is the limit of\n",
      "the language that might be known to them. Presumably aliens need\n",
      "numbers and errors and I/O too. So it seems likely there exists at\n",
      "least one path out of McCarthy's Lisp along which discoveredness\n",
      "is preserved.Thanks to Trevor Blackwell, John Collison, Patrick Collison, Daniel\n",
      "Gackle, Ralph Hazell, Jessica Livingston, Robert Morris, and Harj\n",
      "Taggar for reading drafts of this.\n"
     ]
    }
   ],
   "source": [
    "# This is a long document we can split up.\n",
    "with open('data/PaulGrahamEssays/worked.txt') as f:\n",
    "    pg_work = f.read()\n",
    "    \n",
    "print (f\"You have {len([pg_work])} document\")\n",
    "print(pg_work)"
   ]
  },
  {
   "cell_type": "code",
   "execution_count": 84,
   "id": "d19acb18",
   "metadata": {},
   "outputs": [],
   "source": [
    "text_splitter = RecursiveCharacterTextSplitter(\n",
    "    # Set a really small chunk size, just to show.\n",
    "    chunk_size = 150,\n",
    "    chunk_overlap  = 20,\n",
    ")\n",
    "\n",
    "texts = text_splitter.create_documents([pg_work])"
   ]
  },
  {
   "cell_type": "code",
   "execution_count": 85,
   "id": "e3090f05",
   "metadata": {},
   "outputs": [
    {
     "name": "stdout",
     "output_type": "stream",
     "text": [
      "You have 610 documents\n"
     ]
    }
   ],
   "source": [
    "print (f\"You have {len(texts)} documents\")"
   ]
  },
  {
   "cell_type": "code",
   "execution_count": 86,
   "id": "87a0f45a",
   "metadata": {},
   "outputs": [
    {
     "name": "stdout",
     "output_type": "stream",
     "text": [
      "Preview:\n",
      "February 2021Before college the two main things I worked on, outside of school,\n",
      "were writing and programming. I didn't write essays. I wrote what \n",
      "\n",
      "beginning writers were supposed to write then, and probably still\n",
      "are: short stories. My stories were awful. They had hardly any plot,\n"
     ]
    }
   ],
   "source": [
    "print (\"Preview:\")\n",
    "print (texts[0].page_content, \"\\n\")\n",
    "print (texts[1].page_content)"
   ]
  },
  {
   "cell_type": "markdown",
   "id": "ad9e670d",
   "metadata": {},
   "source": [
    "There are a ton of different ways to do text splitting and it really depends on your retrieval strategy and application design. Check out more splitters [here](https://python.langchain.com/docs/modules/data_connection/document_transformers/)"
   ]
  },
  {
   "cell_type": "markdown",
   "id": "1f85defb",
   "metadata": {},
   "source": [
    "### **Retrievers**\n",
    "Easy way to combine documents with language models.\n",
    "\n",
    "There are many different types of retrievers, the most widely supported is the VectoreStoreRetriever"
   ]
  },
  {
   "cell_type": "code",
   "execution_count": 87,
   "id": "8cccbd82",
   "metadata": {},
   "outputs": [],
   "source": [
    "from langchain.document_loaders import TextLoader\n",
    "from langchain.text_splitter import RecursiveCharacterTextSplitter\n",
    "from langchain.vectorstores import FAISS\n",
    "from langchain.embeddings import OpenAIEmbeddings\n",
    "\n",
    "loader = TextLoader('data/PaulGrahamEssays/worked.txt')\n",
    "documents = loader.load()"
   ]
  },
  {
   "cell_type": "code",
   "execution_count": 88,
   "id": "1dab1c20",
   "metadata": {},
   "outputs": [],
   "source": [
    "# Get your splitter ready\n",
    "text_splitter = RecursiveCharacterTextSplitter(chunk_size=1000, chunk_overlap=50)\n",
    "\n",
    "# Split your docs into texts\n",
    "texts = text_splitter.split_documents(documents)\n",
    "\n",
    "# Get embedding engine ready\n",
    "embeddings = get_azure_embedding_model()\n",
    "\n",
    "# Embedd your texts\n",
    "db = FAISS.from_documents(texts, embeddings)"
   ]
  },
  {
   "cell_type": "code",
   "execution_count": 89,
   "id": "e62372be",
   "metadata": {},
   "outputs": [],
   "source": [
    "# Init your retriever. Asking for just 1 document back\n",
    "retriever = db.as_retriever()"
   ]
  },
  {
   "cell_type": "code",
   "execution_count": 40,
   "id": "e0534bbd",
   "metadata": {},
   "outputs": [
    {
     "data": {
      "text/plain": [
       "VectorStoreRetriever(tags=['FAISS', 'AzureOpenAIEmbeddings'], vectorstore=<langchain_community.vectorstores.faiss.FAISS object at 0x11bc34610>, search_kwargs={})"
      ]
     },
     "execution_count": 40,
     "metadata": {},
     "output_type": "execute_result"
    }
   ],
   "source": [
    "retriever"
   ]
  },
  {
   "cell_type": "code",
   "execution_count": 90,
   "id": "3846a3b5",
   "metadata": {},
   "outputs": [],
   "source": [
    "docs = retriever.invoke(\"what types of things did the author want to build?\")"
   ]
  },
  {
   "cell_type": "code",
   "execution_count": 91,
   "id": "db383cc8",
   "metadata": {},
   "outputs": [
    {
     "name": "stdout",
     "output_type": "stream",
     "text": [
      "standards; what was the point? No one else wanted one either, so\n",
      "off they went. That was what happened to systems work.I wanted not just to build things, but to build things that would\n",
      "last.In this di\n",
      "\n",
      "much of it in grad school.Computer Science is an uneasy alliance between two halves, theory\n",
      "and systems. The theory people prove things, and the systems people\n",
      "build things. I wanted to build things. \n"
     ]
    }
   ],
   "source": [
    "print(\"\\n\\n\".join([x.page_content[:200] for x in docs[:2]]))"
   ]
  },
  {
   "cell_type": "markdown",
   "id": "24193139",
   "metadata": {},
   "source": [
    "### **VectorStores**\n",
    "\n",
    "Databases to store vectors.\n",
    "\n",
    "#### How do they differ from traditional database?\n",
    "<img src=\"./images/vector_database_difference.jpg\" alt=\"vector_database_difference\" width=\"500\"/>\n",
    "\n",
    "\n",
    "Conceptually, think of them as tables w/ a column for embeddings (vectors) and a column for metadata.\n",
    "\n",
    "Example\n",
    "\n",
    "| Embedding      | Metadata |\n",
    "| ----------- | ----------- |\n",
    "| [-0.00015641732898075134, -0.003165106289088726, ...]      | {'date' : '1/2/23}       |\n",
    "| [-0.00035465431654651654, 1.4654131651654516546, ...]   | {'date' : '1/3/23}        |"
   ]
  },
  {
   "cell_type": "code",
   "execution_count": 92,
   "id": "3c5533ad",
   "metadata": {},
   "outputs": [],
   "source": [
    "from langchain.document_loaders import TextLoader\n",
    "from langchain.text_splitter import RecursiveCharacterTextSplitter\n",
    "from langchain.vectorstores import FAISS\n",
    "from langchain.embeddings import OpenAIEmbeddings\n",
    "\n",
    "loader = TextLoader('data/PaulGrahamEssays/worked.txt')\n",
    "documents = loader.load()\n",
    "\n",
    "# Get your splitter ready\n",
    "text_splitter = RecursiveCharacterTextSplitter(chunk_size=1000, chunk_overlap=50)\n",
    "\n",
    "# Split your docs into texts\n",
    "texts = text_splitter.split_documents(documents)\n",
    "\n",
    "# Get embedding engine ready\n",
    "embeddings = get_azure_embedding_model()"
   ]
  },
  {
   "cell_type": "code",
   "execution_count": 93,
   "id": "661fdf19",
   "metadata": {},
   "outputs": [
    {
     "name": "stdout",
     "output_type": "stream",
     "text": [
      "You have 78 documents\n"
     ]
    }
   ],
   "source": [
    "print (f\"You have {len(texts)} documents\")"
   ]
  },
  {
   "cell_type": "code",
   "execution_count": 94,
   "id": "e99ac0ea",
   "metadata": {},
   "outputs": [],
   "source": [
    "embedding_list = embeddings.embed_documents([text.page_content for text in texts])"
   ]
  },
  {
   "cell_type": "code",
   "execution_count": 95,
   "id": "89e7758c",
   "metadata": {},
   "outputs": [
    {
     "name": "stdout",
     "output_type": "stream",
     "text": [
      "You have 78 embeddings\n",
      "Here's a sample of one: [0.023125724866986275, -0.0014271973632276058, -0.02350175380706787]...\n"
     ]
    }
   ],
   "source": [
    "print (f\"You have {len(embedding_list)} embeddings\")\n",
    "print (f\"Here's a sample of one: {embedding_list[0][:3]}...\")"
   ]
  },
  {
   "cell_type": "markdown",
   "id": "8ac358c5",
   "metadata": {},
   "source": [
    "Your vectorstore store your embeddings (☝️) and make them easily searchable"
   ]
  },
  {
   "cell_type": "markdown",
   "id": "f9b9b79b",
   "metadata": {},
   "source": [
    "## Memory\n",
    "Helping LLMs remember information.\n",
    "\n",
    "Memory is a bit of a loose term. It could be as simple as remembering information you've chatted about in the past or more complicated information retrieval.\n",
    "\n",
    "We'll keep it towards the Chat Message use case. This would be used for chat bots.\n",
    "\n",
    "There are many types of memory, explore [the documentation](https://python.langchain.com/en/latest/modules/memory/how_to_guides.html) to see which one fits your use case."
   ]
  },
  {
   "cell_type": "markdown",
   "id": "f43b49da",
   "metadata": {},
   "source": [
    "### Chat Message History"
   ]
  },
  {
   "cell_type": "code",
   "execution_count": 47,
   "id": "893a18c1",
   "metadata": {},
   "outputs": [],
   "source": [
    "from langchain.memory import ChatMessageHistory\n",
    "from langchain.chat_models import ChatOpenAI\n",
    "\n",
    "chat = get_azure_chat_model()\n",
    "\n",
    "history = ChatMessageHistory()\n",
    "\n",
    "history.add_ai_message(\"hi!\")\n",
    "history.add_user_message(\"what is the capital of france?\")"
   ]
  },
  {
   "cell_type": "code",
   "execution_count": 48,
   "id": "9b74d5cf",
   "metadata": {},
   "outputs": [
    {
     "name": "stdout",
     "output_type": "stream",
     "text": [
      "Response: The capital of France is **Paris**.\n"
     ]
    }
   ],
   "source": [
    "ai_response = chat.invoke(history.messages)\n",
    "print(f\"Response: {ai_response.content}\")"
   ]
  },
  {
   "cell_type": "code",
   "execution_count": 49,
   "id": "529e168f",
   "metadata": {},
   "outputs": [
    {
     "data": {
      "text/plain": [
       "[AIMessage(content='hi!', additional_kwargs={}, response_metadata={}),\n",
       " HumanMessage(content='what is the capital of france?', additional_kwargs={}, response_metadata={}),\n",
       " AIMessage(content='The capital of France is **Paris**.', additional_kwargs={}, response_metadata={})]"
      ]
     },
     "execution_count": 49,
     "metadata": {},
     "output_type": "execute_result"
    }
   ],
   "source": [
    "history.add_ai_message(ai_response.content)\n",
    "history.messages"
   ]
  },
  {
   "cell_type": "markdown",
   "id": "f29fc79c",
   "metadata": {},
   "source": [
    "## Chains ⛓️⛓️⛓️\n",
    "Combining different LLM calls and action automatically."
   ]
  },
  {
   "cell_type": "markdown",
   "id": "c34ba415",
   "metadata": {},
   "source": [
    "### Simple Sequential Chains\n",
    "\n",
    "Easy chains where you can use the output of an LLM as an input into another. Good for breaking up tasks (and keeping your LLM focused)"
   ]
  },
  {
   "cell_type": "code",
   "execution_count": 50,
   "id": "79fc0950",
   "metadata": {},
   "outputs": [],
   "source": [
    "from langchain.prompts import PromptTemplate\n",
    "\n",
    "llm = get_azure_chat_model()"
   ]
  },
  {
   "cell_type": "code",
   "execution_count": 96,
   "id": "43d4494a",
   "metadata": {},
   "outputs": [],
   "source": [
    "template = \"\"\"Your job is to come up with a classic dish from the area that the users suggests.\n",
    "% USER LOCATION\n",
    "{user_location}\n",
    "\n",
    "YOUR RESPONSE:\n",
    "\"\"\"\n",
    "prompt_template = PromptTemplate(input_variables=[\"user_location\"], template=template)\n",
    "\n",
    "# Holds my 'location' chain\n",
    "location_chain = prompt_template | llm | StrOutputParser()"
   ]
  },
  {
   "cell_type": "code",
   "execution_count": 97,
   "id": "b6c8e00f",
   "metadata": {},
   "outputs": [],
   "source": [
    "template = \"\"\"Given a meal, give a short and simple recipe on how to make that dish at home.\n",
    "% MEAL\n",
    "{user_meal}\n",
    "\n",
    "YOUR RESPONSE:\n",
    "\"\"\"\n",
    "prompt_template = PromptTemplate(input_variables=[\"user_meal\"], template=template)\n",
    "\n",
    "# Holds my 'meal' chain\n",
    "meal_chain = prompt_template | llm"
   ]
  },
  {
   "cell_type": "code",
   "execution_count": 98,
   "id": "7e0b83f2",
   "metadata": {},
   "outputs": [],
   "source": [
    "overall_chain = location_chain | meal_chain"
   ]
  },
  {
   "cell_type": "code",
   "execution_count": 99,
   "id": "7d19c64d",
   "metadata": {},
   "outputs": [
    {
     "name": "stdout",
     "output_type": "stream",
     "text": [
      "Response:\n",
      "**Simple Recipe for Cacio e Pepe**\n",
      "\n",
      "**Ingredients:**\n",
      "- 12 oz (340g) spaghetti or tonnarelli\n",
      "- 1 cup Pecorino Romano cheese, finely grated\n",
      "- 2 tsp freshly ground black pepper (adjust to taste)\n",
      "- Salt (for boiling pasta)\n",
      "\n",
      "**Instructions:**\n",
      "1. **Cook the pasta:** Bring a large pot of salted water to a boil. Cook the pasta until *just al dente*. Reserve about 1 cup of the pasta water before draining.\n",
      "\n",
      "2. **Toast the pepper:** In a large skillet or pan, toast the black pepper over medium heat for 1-2 minutes to release its aroma.\n",
      "\n",
      "3. **Create the sauce:** Lower the heat and add about ½ cup of the reserved pasta water to the skillet with the pepper. Gradually stir in the Pecorino Romano cheese, a little at a time, until a creamy sauce forms. Keep stirring to prevent clumping.\n",
      "\n",
      "4. **Combine pasta and sauce:** Add the drained pasta to the skillet, tossing it with the sauce. If the mixture seems too dry, add a bit more pasta water until the sauce fully coats the pasta.\n",
      "\n",
      "5. **Serve:** Plate the pasta immediately and sprinkle with extra Pecorino Romano or black pepper, if desired.\n",
      "\n",
      "Enjoy your Roman classic, Cacio e Pepe!\n"
     ]
    }
   ],
   "source": [
    "review = overall_chain.invoke(input={\"user_location\": \"Rome\"})\n",
    "print(f\"Response:\\n{review.content}\")"
   ]
  },
  {
   "cell_type": "code",
   "execution_count": null,
   "id": "0662d1ee-a452-4658-81bd-fceccac9db47",
   "metadata": {},
   "outputs": [],
   "source": []
  }
 ],
 "metadata": {
  "kernelspec": {
   "display_name": "Python 3 (ipykernel)",
   "language": "python",
   "name": "python3"
  },
  "language_info": {
   "codemirror_mode": {
    "name": "ipython",
    "version": 3
   },
   "file_extension": ".py",
   "mimetype": "text/x-python",
   "name": "python",
   "nbconvert_exporter": "python",
   "pygments_lexer": "ipython3",
   "version": "3.11.6"
  }
 },
 "nbformat": 4,
 "nbformat_minor": 5
}
